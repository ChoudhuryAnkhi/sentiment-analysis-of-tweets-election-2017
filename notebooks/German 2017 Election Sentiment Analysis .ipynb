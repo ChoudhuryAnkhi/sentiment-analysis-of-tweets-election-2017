{
 "cells": [
  {
   "cell_type": "markdown",
   "metadata": {},
   "source": [
    "## Read the Data"
   ]
  },
  {
   "cell_type": "code",
   "execution_count": 1,
   "metadata": {},
   "outputs": [],
   "source": [
    "import pandas as pd\n",
    "import numpy as np\n",
    "import os\n",
    "import matplotlib.pyplot as plt\n",
    "%matplotlib inline"
   ]
  },
  {
   "cell_type": "code",
   "execution_count": 2,
   "metadata": {},
   "outputs": [],
   "source": [
    "rootdir = os.path.join(os.getcwd(),os.pardir)\n",
    "\n",
    "datafile = os.path.join(rootdir,\n",
    "             \"data\",\n",
    "             \"processed\",\n",
    "             \"predictions01.csv\")\n",
    "\n",
    "tweets_df = pd.read_csv(datafile)"
   ]
  },
  {
   "cell_type": "markdown",
   "metadata": {},
   "source": [
    "### View the top rows of the data "
   ]
  },
  {
   "cell_type": "code",
   "execution_count": 3,
   "metadata": {},
   "outputs": [
    {
     "data": {
      "text/html": [
       "<div>\n",
       "<style scoped>\n",
       "    .dataframe tbody tr th:only-of-type {\n",
       "        vertical-align: middle;\n",
       "    }\n",
       "\n",
       "    .dataframe tbody tr th {\n",
       "        vertical-align: top;\n",
       "    }\n",
       "\n",
       "    .dataframe thead th {\n",
       "        text-align: right;\n",
       "    }\n",
       "</style>\n",
       "<table border=\"1\" class=\"dataframe\">\n",
       "  <thead>\n",
       "    <tr style=\"text-align: right;\">\n",
       "      <th></th>\n",
       "      <th>Q0</th>\n",
       "      <th>Q1</th>\n",
       "      <th>created_at</th>\n",
       "      <th>text</th>\n",
       "    </tr>\n",
       "  </thead>\n",
       "  <tbody>\n",
       "    <tr>\n",
       "      <th>0</th>\n",
       "      <td>NO</td>\n",
       "      <td>NaN</td>\n",
       "      <td>2017-06-14 18:50:57</td>\n",
       "      <td>Spoke to the young leaders of the 18th Annual ...</td>\n",
       "    </tr>\n",
       "    <tr>\n",
       "      <th>1</th>\n",
       "      <td>NO</td>\n",
       "      <td>NaN</td>\n",
       "      <td>2017-06-14 18:51:14</td>\n",
       "      <td>RT Chris Singleton of CSU drafted by Chicago C...</td>\n",
       "    </tr>\n",
       "    <tr>\n",
       "      <th>2</th>\n",
       "      <td>NO</td>\n",
       "      <td>NaN</td>\n",
       "      <td>2017-06-14 18:51:57</td>\n",
       "      <td>RT CORRUPT SYSTEM PRODUCES SUSTAINS BAD PEOPLE...</td>\n",
       "    </tr>\n",
       "    <tr>\n",
       "      <th>3</th>\n",
       "      <td>YES</td>\n",
       "      <td>UNKNOWN</td>\n",
       "      <td>2017-06-14 18:52:04</td>\n",
       "      <td>RT Merkel justifies her migrant policy by sayi...</td>\n",
       "    </tr>\n",
       "    <tr>\n",
       "      <th>4</th>\n",
       "      <td>NO</td>\n",
       "      <td>NaN</td>\n",
       "      <td>2017-06-14 18:52:57</td>\n",
       "      <td>RT CORRUPT SYSTEM PRODUCES SUSTAINS BAD PEOPLE...</td>\n",
       "    </tr>\n",
       "  </tbody>\n",
       "</table>\n",
       "</div>"
      ],
      "text/plain": [
       "    Q0       Q1           created_at  \\\n",
       "0   NO      NaN  2017-06-14 18:50:57   \n",
       "1   NO      NaN  2017-06-14 18:51:14   \n",
       "2   NO      NaN  2017-06-14 18:51:57   \n",
       "3  YES  UNKNOWN  2017-06-14 18:52:04   \n",
       "4   NO      NaN  2017-06-14 18:52:57   \n",
       "\n",
       "                                                text  \n",
       "0  Spoke to the young leaders of the 18th Annual ...  \n",
       "1  RT Chris Singleton of CSU drafted by Chicago C...  \n",
       "2  RT CORRUPT SYSTEM PRODUCES SUSTAINS BAD PEOPLE...  \n",
       "3  RT Merkel justifies her migrant policy by sayi...  \n",
       "4  RT CORRUPT SYSTEM PRODUCES SUSTAINS BAD PEOPLE...  "
      ]
     },
     "execution_count": 3,
     "metadata": {},
     "output_type": "execute_result"
    }
   ],
   "source": [
    "tweets_df.head()"
   ]
  },
  {
   "cell_type": "code",
   "execution_count": 4,
   "metadata": {},
   "outputs": [
    {
     "name": "stdout",
     "output_type": "stream",
     "text": [
      "<class 'pandas.core.frame.DataFrame'>\n",
      "RangeIndex: 2021752 entries, 0 to 2021751\n",
      "Data columns (total 4 columns):\n",
      "Q0            object\n",
      "Q1            object\n",
      "created_at    object\n",
      "text          object\n",
      "dtypes: object(4)\n",
      "memory usage: 61.7+ MB\n"
     ]
    }
   ],
   "source": [
    "tweets_df.info()"
   ]
  },
  {
   "cell_type": "code",
   "execution_count": 5,
   "metadata": {},
   "outputs": [],
   "source": [
    "#total_df.isnull().sum()\n",
    "tweets_df.dropna(subset=['text'], inplace=True)"
   ]
  },
  {
   "cell_type": "code",
   "execution_count": 6,
   "metadata": {},
   "outputs": [],
   "source": [
    "tweets_df.Q1 = tweets_df.Q1.replace(np.nan, 'NOMOOD', regex = True)"
   ]
  },
  {
   "cell_type": "code",
   "execution_count": 7,
   "metadata": {},
   "outputs": [
    {
     "data": {
      "text/plain": [
       "Q0            0\n",
       "Q1            0\n",
       "created_at    0\n",
       "text          0\n",
       "dtype: int64"
      ]
     },
     "execution_count": 7,
     "metadata": {},
     "output_type": "execute_result"
    }
   ],
   "source": [
    "tweets_df.isnull().sum()"
   ]
  },
  {
   "cell_type": "code",
   "execution_count": 8,
   "metadata": {},
   "outputs": [
    {
     "data": {
      "text/plain": [
       "YES    1634245\n",
       "NO      387504\n",
       "Name: Q0, dtype: int64"
      ]
     },
     "execution_count": 8,
     "metadata": {},
     "output_type": "execute_result"
    }
   ],
   "source": [
    "tweets_df.Q0.value_counts()"
   ]
  },
  {
   "cell_type": "code",
   "execution_count": 9,
   "metadata": {},
   "outputs": [
    {
     "data": {
      "text/plain": [
       "UNKNOWN       1630565\n",
       "POSITIVE         2018\n",
       "NEGATIVE         1658\n",
       "BOTH/MIXED          4\n",
       "Name: Q1, dtype: int64"
      ]
     },
     "execution_count": 9,
     "metadata": {},
     "output_type": "execute_result"
    }
   ],
   "source": [
    "tweets_df.Q1[tweets_df.Q0==\"YES\"].value_counts()"
   ]
  },
  {
   "cell_type": "markdown",
   "metadata": {},
   "source": [
    "## Calculate the Frequency Distribution of Candidates and parties"
   ]
  },
  {
   "cell_type": "code",
   "execution_count": 10,
   "metadata": {},
   "outputs": [],
   "source": [
    "def search_key_in_Series(keywords,Series):\n",
    "    search_counts = [Series.str.contains(key, case=False).sum() for key in keywords]\n",
    "    return pd.DataFrame({\"key\":keywords,\"count\":search_counts}).set_index(\"key\")"
   ]
  },
  {
   "cell_type": "code",
   "execution_count": 11,
   "metadata": {},
   "outputs": [],
   "source": [
    "candidates=\"merkel schulz batsch wageknecht ozdemir|özdemir eckardt lindner gauland weidel\".split()\n",
    "parties = \"cdu csu spd linke gruene|grüne fdp afd\".split()"
   ]
  },
  {
   "cell_type": "code",
   "execution_count": 12,
   "metadata": {
    "scrolled": false
   },
   "outputs": [],
   "source": [
    "#import plotly.plotly as py \n",
    "#plotly used to create interactive graphs\n",
    "#import cufflinks as cf\n",
    "%matplotlib inline\n",
    "\n",
    "#cf.set_config_file(offline=True, world_readable=True, theme='ggplot')\n",
    "\n",
    "candidate_count = search_key_in_Series(keywords=candidates, Series=tweets_df.text)\n",
    "party_count = search_key_in_Series(keywords=parties, Series=tweets_df.text)"
   ]
  },
  {
   "cell_type": "code",
   "execution_count": 13,
   "metadata": {},
   "outputs": [
    {
     "data": {
      "text/html": [
       "<div>\n",
       "<style scoped>\n",
       "    .dataframe tbody tr th:only-of-type {\n",
       "        vertical-align: middle;\n",
       "    }\n",
       "\n",
       "    .dataframe tbody tr th {\n",
       "        vertical-align: top;\n",
       "    }\n",
       "\n",
       "    .dataframe thead th {\n",
       "        text-align: right;\n",
       "    }\n",
       "</style>\n",
       "<table border=\"1\" class=\"dataframe\">\n",
       "  <thead>\n",
       "    <tr style=\"text-align: right;\">\n",
       "      <th></th>\n",
       "      <th>count</th>\n",
       "    </tr>\n",
       "    <tr>\n",
       "      <th>key</th>\n",
       "      <th></th>\n",
       "    </tr>\n",
       "  </thead>\n",
       "  <tbody>\n",
       "    <tr>\n",
       "      <th>merkel</th>\n",
       "      <td>1469992</td>\n",
       "    </tr>\n",
       "    <tr>\n",
       "      <th>schulz</th>\n",
       "      <td>121034</td>\n",
       "    </tr>\n",
       "    <tr>\n",
       "      <th>batsch</th>\n",
       "      <td>1</td>\n",
       "    </tr>\n",
       "    <tr>\n",
       "      <th>wageknecht</th>\n",
       "      <td>1</td>\n",
       "    </tr>\n",
       "    <tr>\n",
       "      <th>ozdemir|özdemir</th>\n",
       "      <td>9</td>\n",
       "    </tr>\n",
       "    <tr>\n",
       "      <th>eckardt</th>\n",
       "      <td>2</td>\n",
       "    </tr>\n",
       "    <tr>\n",
       "      <th>lindner</th>\n",
       "      <td>661</td>\n",
       "    </tr>\n",
       "    <tr>\n",
       "      <th>gauland</th>\n",
       "      <td>1417</td>\n",
       "    </tr>\n",
       "    <tr>\n",
       "      <th>weidel</th>\n",
       "      <td>1072</td>\n",
       "    </tr>\n",
       "  </tbody>\n",
       "</table>\n",
       "</div>"
      ],
      "text/plain": [
       "                   count\n",
       "key                     \n",
       "merkel           1469992\n",
       "schulz            121034\n",
       "batsch                 1\n",
       "wageknecht             1\n",
       "ozdemir|özdemir        9\n",
       "eckardt                2\n",
       "lindner              661\n",
       "gauland             1417\n",
       "weidel              1072"
      ]
     },
     "execution_count": 13,
     "metadata": {},
     "output_type": "execute_result"
    },
    {
     "data": {
      "image/png": "[encoded data removed]",
      "text/plain": [
       "<Figure size 432x288 with 1 Axes>"
      ]
     },
     "metadata": {},
     "output_type": "display_data"
    }
   ],
   "source": [
    "candidate_count.plot(kind='bar', \n",
    "                     title = \"Count of Each Candidate\",\n",
    "                     #filename='cufflinks/tweet-per-candidate'\n",
    "                     )\n",
    "candidate_count"
   ]
  },
  {
   "cell_type": "code",
   "execution_count": 14,
   "metadata": {},
   "outputs": [
    {
     "data": {
      "text/html": [
       "<div>\n",
       "<style scoped>\n",
       "    .dataframe tbody tr th:only-of-type {\n",
       "        vertical-align: middle;\n",
       "    }\n",
       "\n",
       "    .dataframe tbody tr th {\n",
       "        vertical-align: top;\n",
       "    }\n",
       "\n",
       "    .dataframe thead th {\n",
       "        text-align: right;\n",
       "    }\n",
       "</style>\n",
       "<table border=\"1\" class=\"dataframe\">\n",
       "  <thead>\n",
       "    <tr style=\"text-align: right;\">\n",
       "      <th></th>\n",
       "      <th>count</th>\n",
       "    </tr>\n",
       "    <tr>\n",
       "      <th>key</th>\n",
       "      <th></th>\n",
       "    </tr>\n",
       "  </thead>\n",
       "  <tbody>\n",
       "    <tr>\n",
       "      <th>cdu</th>\n",
       "      <td>25718</td>\n",
       "    </tr>\n",
       "    <tr>\n",
       "      <th>csu</th>\n",
       "      <td>92426</td>\n",
       "    </tr>\n",
       "    <tr>\n",
       "      <th>spd</th>\n",
       "      <td>83258</td>\n",
       "    </tr>\n",
       "    <tr>\n",
       "      <th>linke</th>\n",
       "      <td>13235</td>\n",
       "    </tr>\n",
       "    <tr>\n",
       "      <th>gruene|grüne</th>\n",
       "      <td>2282</td>\n",
       "    </tr>\n",
       "    <tr>\n",
       "      <th>fdp</th>\n",
       "      <td>6876</td>\n",
       "    </tr>\n",
       "    <tr>\n",
       "      <th>afd</th>\n",
       "      <td>233492</td>\n",
       "    </tr>\n",
       "  </tbody>\n",
       "</table>\n",
       "</div>"
      ],
      "text/plain": [
       "               count\n",
       "key                 \n",
       "cdu            25718\n",
       "csu            92426\n",
       "spd            83258\n",
       "linke          13235\n",
       "gruene|grüne    2282\n",
       "fdp             6876\n",
       "afd           233492"
      ]
     },
     "execution_count": 14,
     "metadata": {},
     "output_type": "execute_result"
    },
    {
     "data": {
      "image/png": "[encoded data removed]",
      "text/plain": [
       "<Figure size 432x288 with 1 Axes>"
      ]
     },
     "metadata": {},
     "output_type": "display_data"
    }
   ],
   "source": [
    "\n",
    "party_count.plot(kind = 'bar',\n",
    "                 title = 'Count of Each Party')\n",
    "party_count"
   ]
  },
  {
   "cell_type": "markdown",
   "metadata": {},
   "source": [
    "## Calculating Primary Target of Tweets"
   ]
  },
  {
   "cell_type": "code",
   "execution_count": 16,
   "metadata": {},
   "outputs": [],
   "source": [
    "tweets_df.loc[tweets_df['text'].str.contains('merkel', case=False), 'Candidate'] = 'merkel'\n",
    "tweets_df.loc[tweets_df['text'].str.contains('schulz', case=False), 'Candidate'] = 'schulz'\n",
    "tweets_df.loc[tweets_df['text'].str.contains('gauland', case=False), 'Candidate'] = 'gaulandweidel'\n",
    "tweets_df.loc[tweets_df['text'].str.contains('weidel', case=False), 'Candidate'] = 'gaulandweidel'\n",
    "tweets_df.loc[tweets_df['text'].str.contains('lindner|batsch|wageknecht|eckardt|ozdemir|özdemir', case=False), 'Candidate'] = 'others'"
   ]
  },
  {
   "cell_type": "code",
   "execution_count": 17,
   "metadata": {},
   "outputs": [
    {
     "data": {
      "text/plain": [
       "merkel           1459999\n",
       "schulz            120980\n",
       "gaulandweidel       2341\n",
       "others               674\n",
       "Name: Candidate, dtype: int64"
      ]
     },
     "execution_count": 17,
     "metadata": {},
     "output_type": "execute_result"
    }
   ],
   "source": [
    "tweets_df.Candidate.value_counts()"
   ]
  },
  {
   "cell_type": "code",
   "execution_count": 18,
   "metadata": {},
   "outputs": [],
   "source": [
    "filtered_tweets_df = tweets_df.loc[tweets_df['Candidate'].isin(['merkel', 'schulz', 'gaulandweidel'])]"
   ]
  },
  {
   "cell_type": "code",
   "execution_count": 19,
   "metadata": {},
   "outputs": [
    {
     "data": {
      "text/html": [
       "<div>\n",
       "<style scoped>\n",
       "    .dataframe tbody tr th:only-of-type {\n",
       "        vertical-align: middle;\n",
       "    }\n",
       "\n",
       "    .dataframe tbody tr th {\n",
       "        vertical-align: top;\n",
       "    }\n",
       "\n",
       "    .dataframe thead th {\n",
       "        text-align: right;\n",
       "    }\n",
       "</style>\n",
       "<table border=\"1\" class=\"dataframe\">\n",
       "  <thead>\n",
       "    <tr style=\"text-align: right;\">\n",
       "      <th></th>\n",
       "      <th>Q0</th>\n",
       "      <th>Q1</th>\n",
       "      <th>created_at</th>\n",
       "      <th>text</th>\n",
       "      <th>Candidate</th>\n",
       "    </tr>\n",
       "  </thead>\n",
       "  <tbody>\n",
       "    <tr>\n",
       "      <th>2</th>\n",
       "      <td>NO</td>\n",
       "      <td>NOMOOD</td>\n",
       "      <td>2017-06-14 18:51:57</td>\n",
       "      <td>RT CORRUPT SYSTEM PRODUCES SUSTAINS BAD PEOPLE...</td>\n",
       "      <td>schulz</td>\n",
       "    </tr>\n",
       "    <tr>\n",
       "      <th>3</th>\n",
       "      <td>YES</td>\n",
       "      <td>UNKNOWN</td>\n",
       "      <td>2017-06-14 18:52:04</td>\n",
       "      <td>RT Merkel justifies her migrant policy by sayi...</td>\n",
       "      <td>merkel</td>\n",
       "    </tr>\n",
       "    <tr>\n",
       "      <th>4</th>\n",
       "      <td>NO</td>\n",
       "      <td>NOMOOD</td>\n",
       "      <td>2017-06-14 18:52:57</td>\n",
       "      <td>RT CORRUPT SYSTEM PRODUCES SUSTAINS BAD PEOPLE...</td>\n",
       "      <td>schulz</td>\n",
       "    </tr>\n",
       "    <tr>\n",
       "      <th>5</th>\n",
       "      <td>YES</td>\n",
       "      <td>UNKNOWN</td>\n",
       "      <td>2017-06-14 18:53:09</td>\n",
       "      <td>RT Macron is about to win a big mandate Merkel...</td>\n",
       "      <td>merkel</td>\n",
       "    </tr>\n",
       "    <tr>\n",
       "      <th>6</th>\n",
       "      <td>NO</td>\n",
       "      <td>NOMOOD</td>\n",
       "      <td>2017-06-14 18:53:12</td>\n",
       "      <td>RT CORRUPT SYSTEM PRODUCES SUSTAINS BAD PEOPLE...</td>\n",
       "      <td>schulz</td>\n",
       "    </tr>\n",
       "  </tbody>\n",
       "</table>\n",
       "</div>"
      ],
      "text/plain": [
       "    Q0       Q1           created_at  \\\n",
       "2   NO   NOMOOD  2017-06-14 18:51:57   \n",
       "3  YES  UNKNOWN  2017-06-14 18:52:04   \n",
       "4   NO   NOMOOD  2017-06-14 18:52:57   \n",
       "5  YES  UNKNOWN  2017-06-14 18:53:09   \n",
       "6   NO   NOMOOD  2017-06-14 18:53:12   \n",
       "\n",
       "                                                text Candidate  \n",
       "2  RT CORRUPT SYSTEM PRODUCES SUSTAINS BAD PEOPLE...    schulz  \n",
       "3  RT Merkel justifies her migrant policy by sayi...    merkel  \n",
       "4  RT CORRUPT SYSTEM PRODUCES SUSTAINS BAD PEOPLE...    schulz  \n",
       "5  RT Macron is about to win a big mandate Merkel...    merkel  \n",
       "6  RT CORRUPT SYSTEM PRODUCES SUSTAINS BAD PEOPLE...    schulz  "
      ]
     },
     "execution_count": 19,
     "metadata": {},
     "output_type": "execute_result"
    }
   ],
   "source": [
    "filtered_tweets_df.head()"
   ]
  },
  {
   "cell_type": "markdown",
   "metadata": {},
   "source": [
    "## Frequency Distribution after Filtering"
   ]
  },
  {
   "cell_type": "code",
   "execution_count": 20,
   "metadata": {},
   "outputs": [
    {
     "data": {
      "text/plain": [
       "YES    1481803\n",
       "NO      101517\n",
       "Name: Q0, dtype: int64"
      ]
     },
     "execution_count": 20,
     "metadata": {},
     "output_type": "execute_result"
    }
   ],
   "source": [
    "filtered_tweets_df.Q0.value_counts()"
   ]
  },
  {
   "cell_type": "code",
   "execution_count": 21,
   "metadata": {},
   "outputs": [
    {
     "data": {
      "text/plain": [
       "UNKNOWN       1478131\n",
       "NOMOOD         101517\n",
       "POSITIVE         2017\n",
       "NEGATIVE         1651\n",
       "BOTH/MIXED          4\n",
       "Name: Q1, dtype: int64"
      ]
     },
     "execution_count": 21,
     "metadata": {},
     "output_type": "execute_result"
    }
   ],
   "source": [
    "filtered_tweets_df.Q1.value_counts()"
   ]
  },
  {
   "cell_type": "code",
   "execution_count": 22,
   "metadata": {},
   "outputs": [
    {
     "data": {
      "text/plain": [
       "merkel           1459999\n",
       "schulz            120980\n",
       "gaulandweidel       2341\n",
       "Name: Candidate, dtype: int64"
      ]
     },
     "execution_count": 22,
     "metadata": {},
     "output_type": "execute_result"
    }
   ],
   "source": [
    "filtered_tweets_df.Candidate.value_counts()"
   ]
  },
  {
   "cell_type": "markdown",
   "metadata": {},
   "source": [
    "## Sampling 20% Data for Machine Learning"
   ]
  },
  {
   "cell_type": "code",
   "execution_count": 23,
   "metadata": {},
   "outputs": [],
   "source": [
    "merkel_df = filtered_tweets_df[filtered_tweets_df.Candidate == 'merkel'].sample(frac=0.02)\n",
    "schulz_df = filtered_tweets_df[filtered_tweets_df.Candidate == 'schulz'].sample(frac=0.2)\n",
    "gw_df = filtered_tweets_df[filtered_tweets_df.Candidate == 'gaulandweidel']"
   ]
  },
  {
   "cell_type": "code",
   "execution_count": 24,
   "metadata": {},
   "outputs": [],
   "source": [
    "sampled_df = pd.concat([merkel_df, schulz_df, gw_df])\n",
    "sampled_df.columns = ['Relevant', 'Mood_of_Speaker', 'created_at', 'text', 'Candidate']"
   ]
  },
  {
   "cell_type": "code",
   "execution_count": 25,
   "metadata": {},
   "outputs": [
    {
     "data": {
      "text/html": [
       "<div>\n",
       "<style scoped>\n",
       "    .dataframe tbody tr th:only-of-type {\n",
       "        vertical-align: middle;\n",
       "    }\n",
       "\n",
       "    .dataframe tbody tr th {\n",
       "        vertical-align: top;\n",
       "    }\n",
       "\n",
       "    .dataframe thead th {\n",
       "        text-align: right;\n",
       "    }\n",
       "</style>\n",
       "<table border=\"1\" class=\"dataframe\">\n",
       "  <thead>\n",
       "    <tr style=\"text-align: right;\">\n",
       "      <th></th>\n",
       "      <th>Relevant</th>\n",
       "      <th>Mood_of_Speaker</th>\n",
       "      <th>created_at</th>\n",
       "      <th>text</th>\n",
       "      <th>Candidate</th>\n",
       "    </tr>\n",
       "  </thead>\n",
       "  <tbody>\n",
       "    <tr>\n",
       "      <th>1368205</th>\n",
       "      <td>YES</td>\n",
       "      <td>UNKNOWN</td>\n",
       "      <td>2017-08-20 20:41:03</td>\n",
       "      <td>RT MERKEL sentences journalist to prison for p...</td>\n",
       "      <td>merkel</td>\n",
       "    </tr>\n",
       "    <tr>\n",
       "      <th>1978600</th>\n",
       "      <td>YES</td>\n",
       "      <td>UNKNOWN</td>\n",
       "      <td>2017-10-01 18:00:02</td>\n",
       "      <td>RT German Chancellor Merkel holds phone call w...</td>\n",
       "      <td>merkel</td>\n",
       "    </tr>\n",
       "    <tr>\n",
       "      <th>521965</th>\n",
       "      <td>YES</td>\n",
       "      <td>UNKNOWN</td>\n",
       "      <td>2017-07-07 19:42:31</td>\n",
       "      <td>RT Putin made Merkel wait for 4 hours Obama fo...</td>\n",
       "      <td>merkel</td>\n",
       "    </tr>\n",
       "    <tr>\n",
       "      <th>868158</th>\n",
       "      <td>YES</td>\n",
       "      <td>UNKNOWN</td>\n",
       "      <td>2017-07-13 17:27:25</td>\n",
       "      <td>RT MERKEL S GERMANY Gangs Are Beating Up Immig...</td>\n",
       "      <td>merkel</td>\n",
       "    </tr>\n",
       "    <tr>\n",
       "      <th>1264858</th>\n",
       "      <td>YES</td>\n",
       "      <td>UNKNOWN</td>\n",
       "      <td>2017-08-15 00:35:29</td>\n",
       "      <td>Wrong Germany isn t in any atonement mode Merk...</td>\n",
       "      <td>merkel</td>\n",
       "    </tr>\n",
       "  </tbody>\n",
       "</table>\n",
       "</div>"
      ],
      "text/plain": [
       "        Relevant Mood_of_Speaker           created_at  \\\n",
       "1368205      YES         UNKNOWN  2017-08-20 20:41:03   \n",
       "1978600      YES         UNKNOWN  2017-10-01 18:00:02   \n",
       "521965       YES         UNKNOWN  2017-07-07 19:42:31   \n",
       "868158       YES         UNKNOWN  2017-07-13 17:27:25   \n",
       "1264858      YES         UNKNOWN  2017-08-15 00:35:29   \n",
       "\n",
       "                                                      text Candidate  \n",
       "1368205  RT MERKEL sentences journalist to prison for p...    merkel  \n",
       "1978600  RT German Chancellor Merkel holds phone call w...    merkel  \n",
       "521965   RT Putin made Merkel wait for 4 hours Obama fo...    merkel  \n",
       "868158   RT MERKEL S GERMANY Gangs Are Beating Up Immig...    merkel  \n",
       "1264858  Wrong Germany isn t in any atonement mode Merk...    merkel  "
      ]
     },
     "execution_count": 25,
     "metadata": {},
     "output_type": "execute_result"
    }
   ],
   "source": [
    "sampled_df.head()"
   ]
  },
  {
   "cell_type": "markdown",
   "metadata": {},
   "source": [
    "## Sentiment Calculation\n",
    "\n"
   ]
  },
  {
   "cell_type": "markdown",
   "metadata": {},
   "source": [
    "__TextBlob__ is a Python (2 and 3) library for processing textual data. It provides a consistent API for diving into common natural language processing (NLP) tasks such as part-of-speech tagging, noun phrase extraction, __sentiment analysis__, and more.\n",
    "\n",
    "__TextBlob__ aims to provide access to common text-processing operations through a familiar interface. You can treat TextBlob objects as if they were Python strings that learned how to do Natural Language Processing.\n",
    "\n",
    "The __sentiment__ property returns a namedtuple of the form __Sentiment (polarity, subjectivity)__. The polarity score is a float within the range [-1.0, 1.0]. The subjectivity is a float within the range [0.0, 1.0] where 0.0 is very objective and 1.0 is very subjective."
   ]
  },
  {
   "cell_type": "code",
   "execution_count": 28,
   "metadata": {},
   "outputs": [],
   "source": [
    "from textblob import TextBlob\n",
    "\n",
    "def calculate_sentiment(tweet):\n",
    "    '''\n",
    "        Utility function to classify sentiment of passed tweets\n",
    "        using textblob's sentiment method\n",
    "    '''\n",
    "    \n",
    "    # create TextBlob object of passed tweet\n",
    "    analysis = TextBlob(tweet)\n",
    "    # set sentiment\n",
    "    if analysis.sentiment.polarity > 0:\n",
    "        return 'positive'\n",
    "    elif analysis.sentiment.polarity == 0:\n",
    "        return 'neutral'\n",
    "    else:\n",
    "        return 'negative'"
   ]
  },
  {
   "cell_type": "code",
   "execution_count": 29,
   "metadata": {},
   "outputs": [],
   "source": [
    "def parse_data(tweets):\n",
    "    parsed_tweets = []\n",
    "    cnt = 0\n",
    "    for tweet in tweets:\n",
    "        cnt += 1\n",
    "        # empty dictionary to store required params of a tweets\n",
    "        parsed_tweet = {}\n",
    "        # saving sentiment of tweet\n",
    "        parsed_tweet['sentiment'] = calculate_sentiment(tweet)\n",
    "        parsed_tweets.append(parsed_tweet)\n",
    "    print (\"sentiments computed for %d tweet\" % cnt)\n",
    "    return parsed_tweets"
   ]
  },
  {
   "cell_type": "code",
   "execution_count": 30,
   "metadata": {},
   "outputs": [
    {
     "name": "stdout",
     "output_type": "stream",
     "text": [
      "sentiments computed for 55737 tweet\n"
     ]
    }
   ],
   "source": [
    "sample_with_sentiments_df = pd.DataFrame(parse_data(sampled_df['text'].tolist()))"
   ]
  },
  {
   "cell_type": "code",
   "execution_count": 31,
   "metadata": {},
   "outputs": [
    {
     "data": {
      "text/html": [
       "<div>\n",
       "<style scoped>\n",
       "    .dataframe tbody tr th:only-of-type {\n",
       "        vertical-align: middle;\n",
       "    }\n",
       "\n",
       "    .dataframe tbody tr th {\n",
       "        vertical-align: top;\n",
       "    }\n",
       "\n",
       "    .dataframe thead th {\n",
       "        text-align: right;\n",
       "    }\n",
       "</style>\n",
       "<table border=\"1\" class=\"dataframe\">\n",
       "  <thead>\n",
       "    <tr style=\"text-align: right;\">\n",
       "      <th></th>\n",
       "      <th>text</th>\n",
       "      <th>Relevant</th>\n",
       "      <th>Mood_of_Speaker</th>\n",
       "      <th>created_at</th>\n",
       "      <th>Candidate</th>\n",
       "      <th>sentiment</th>\n",
       "    </tr>\n",
       "  </thead>\n",
       "  <tbody>\n",
       "    <tr>\n",
       "      <th>0</th>\n",
       "      <td>RT MERKEL sentences journalist to prison for p...</td>\n",
       "      <td>YES</td>\n",
       "      <td>UNKNOWN</td>\n",
       "      <td>2017-08-20 20:41:03</td>\n",
       "      <td>merkel</td>\n",
       "      <td>neutral</td>\n",
       "    </tr>\n",
       "    <tr>\n",
       "      <th>1</th>\n",
       "      <td>RT German Chancellor Merkel holds phone call w...</td>\n",
       "      <td>YES</td>\n",
       "      <td>UNKNOWN</td>\n",
       "      <td>2017-10-01 18:00:02</td>\n",
       "      <td>merkel</td>\n",
       "      <td>neutral</td>\n",
       "    </tr>\n",
       "    <tr>\n",
       "      <th>2</th>\n",
       "      <td>RT Putin made Merkel wait for 4 hours Obama fo...</td>\n",
       "      <td>YES</td>\n",
       "      <td>UNKNOWN</td>\n",
       "      <td>2017-07-07 19:42:31</td>\n",
       "      <td>merkel</td>\n",
       "      <td>positive</td>\n",
       "    </tr>\n",
       "    <tr>\n",
       "      <th>3</th>\n",
       "      <td>RT MERKEL S GERMANY Gangs Are Beating Up Immig...</td>\n",
       "      <td>YES</td>\n",
       "      <td>UNKNOWN</td>\n",
       "      <td>2017-07-13 17:27:25</td>\n",
       "      <td>merkel</td>\n",
       "      <td>positive</td>\n",
       "    </tr>\n",
       "    <tr>\n",
       "      <th>4</th>\n",
       "      <td>Wrong Germany isn t in any atonement mode Merk...</td>\n",
       "      <td>YES</td>\n",
       "      <td>UNKNOWN</td>\n",
       "      <td>2017-08-15 00:35:29</td>\n",
       "      <td>merkel</td>\n",
       "      <td>negative</td>\n",
       "    </tr>\n",
       "    <tr>\n",
       "      <th>5</th>\n",
       "      <td>RT Acid attacks were non existent in Europe be...</td>\n",
       "      <td>YES</td>\n",
       "      <td>UNKNOWN</td>\n",
       "      <td>2017-09-18 08:36:54</td>\n",
       "      <td>merkel</td>\n",
       "      <td>neutral</td>\n",
       "    </tr>\n",
       "    <tr>\n",
       "      <th>6</th>\n",
       "      <td>RT Drumpf refused Merkel s handshake when they...</td>\n",
       "      <td>YES</td>\n",
       "      <td>UNKNOWN</td>\n",
       "      <td>2017-07-08 14:47:19</td>\n",
       "      <td>merkel</td>\n",
       "      <td>positive</td>\n",
       "    </tr>\n",
       "    <tr>\n",
       "      <th>7</th>\n",
       "      <td>RT Angela Merkel is all of us</td>\n",
       "      <td>YES</td>\n",
       "      <td>UNKNOWN</td>\n",
       "      <td>2017-07-08 17:09:57</td>\n",
       "      <td>merkel</td>\n",
       "      <td>neutral</td>\n",
       "    </tr>\n",
       "    <tr>\n",
       "      <th>8</th>\n",
       "      <td>business Why Angela Merkel is staying out of e...</td>\n",
       "      <td>YES</td>\n",
       "      <td>UNKNOWN</td>\n",
       "      <td>2017-08-23 05:22:18</td>\n",
       "      <td>merkel</td>\n",
       "      <td>neutral</td>\n",
       "    </tr>\n",
       "    <tr>\n",
       "      <th>9</th>\n",
       "      <td>RT Merkel says Trump administration s decision...</td>\n",
       "      <td>YES</td>\n",
       "      <td>UNKNOWN</td>\n",
       "      <td>2017-07-03 09:42:20</td>\n",
       "      <td>merkel</td>\n",
       "      <td>neutral</td>\n",
       "    </tr>\n",
       "  </tbody>\n",
       "</table>\n",
       "</div>"
      ],
      "text/plain": [
       "                                                text Relevant Mood_of_Speaker  \\\n",
       "0  RT MERKEL sentences journalist to prison for p...      YES         UNKNOWN   \n",
       "1  RT German Chancellor Merkel holds phone call w...      YES         UNKNOWN   \n",
       "2  RT Putin made Merkel wait for 4 hours Obama fo...      YES         UNKNOWN   \n",
       "3  RT MERKEL S GERMANY Gangs Are Beating Up Immig...      YES         UNKNOWN   \n",
       "4  Wrong Germany isn t in any atonement mode Merk...      YES         UNKNOWN   \n",
       "5  RT Acid attacks were non existent in Europe be...      YES         UNKNOWN   \n",
       "6  RT Drumpf refused Merkel s handshake when they...      YES         UNKNOWN   \n",
       "7                      RT Angela Merkel is all of us      YES         UNKNOWN   \n",
       "8  business Why Angela Merkel is staying out of e...      YES         UNKNOWN   \n",
       "9  RT Merkel says Trump administration s decision...      YES         UNKNOWN   \n",
       "\n",
       "            created_at Candidate sentiment  \n",
       "0  2017-08-20 20:41:03    merkel   neutral  \n",
       "1  2017-10-01 18:00:02    merkel   neutral  \n",
       "2  2017-07-07 19:42:31    merkel  positive  \n",
       "3  2017-07-13 17:27:25    merkel  positive  \n",
       "4  2017-08-15 00:35:29    merkel  negative  \n",
       "5  2017-09-18 08:36:54    merkel   neutral  \n",
       "6  2017-07-08 14:47:19    merkel  positive  \n",
       "7  2017-07-08 17:09:57    merkel   neutral  \n",
       "8  2017-08-23 05:22:18    merkel   neutral  \n",
       "9  2017-07-03 09:42:20    merkel   neutral  "
      ]
     },
     "execution_count": 31,
     "metadata": {},
     "output_type": "execute_result"
    }
   ],
   "source": [
    "sample_with_sentiments_df = pd.concat([sampled_df[['text', 'Relevant', 'Mood_of_Speaker', 'created_at', 'Candidate']].reset_index(drop=True), \n",
    "                                      sample_with_sentiments_df], axis = 1)\n",
    "sample_with_sentiments_df.head(10)"
   ]
  },
  {
   "cell_type": "markdown",
   "metadata": {},
   "source": [
    "## Frequency Distribution after Sampling"
   ]
  },
  {
   "cell_type": "code",
   "execution_count": 32,
   "metadata": {},
   "outputs": [
    {
     "data": {
      "text/plain": [
       "merkel           29200\n",
       "schulz           24196\n",
       "gaulandweidel     2341\n",
       "Name: Candidate, dtype: int64"
      ]
     },
     "execution_count": 32,
     "metadata": {},
     "output_type": "execute_result"
    }
   ],
   "source": [
    "sampled_df.Candidate.value_counts()"
   ]
  },
  {
   "cell_type": "code",
   "execution_count": 33,
   "metadata": {},
   "outputs": [
    {
     "data": {
      "text/plain": [
       "YES    36056\n",
       "NO     19681\n",
       "Name: Relevant, dtype: int64"
      ]
     },
     "execution_count": 33,
     "metadata": {},
     "output_type": "execute_result"
    }
   ],
   "source": [
    "sampled_df.Relevant.value_counts()"
   ]
  },
  {
   "cell_type": "code",
   "execution_count": 34,
   "metadata": {},
   "outputs": [
    {
     "data": {
      "text/plain": [
       "UNKNOWN     35986\n",
       "NOMOOD      19681\n",
       "NEGATIVE       35\n",
       "POSITIVE       35\n",
       "Name: Mood_of_Speaker, dtype: int64"
      ]
     },
     "execution_count": 34,
     "metadata": {},
     "output_type": "execute_result"
    }
   ],
   "source": [
    "sampled_df.Mood_of_Speaker.value_counts()"
   ]
  },
  {
   "cell_type": "code",
   "execution_count": 35,
   "metadata": {},
   "outputs": [
    {
     "data": {
      "text/plain": [
       "neutral     24411\n",
       "positive    22403\n",
       "negative     8923\n",
       "Name: sentiment, dtype: int64"
      ]
     },
     "execution_count": 35,
     "metadata": {},
     "output_type": "execute_result"
    }
   ],
   "source": [
    "sample_with_sentiments_df.sentiment.value_counts()"
   ]
  },
  {
   "cell_type": "code",
   "execution_count": 36,
   "metadata": {},
   "outputs": [
    {
     "data": {
      "text/html": [
       "<div>\n",
       "<style scoped>\n",
       "    .dataframe tbody tr th:only-of-type {\n",
       "        vertical-align: middle;\n",
       "    }\n",
       "\n",
       "    .dataframe tbody tr th {\n",
       "        vertical-align: top;\n",
       "    }\n",
       "\n",
       "    .dataframe thead th {\n",
       "        text-align: right;\n",
       "    }\n",
       "</style>\n",
       "<table border=\"1\" class=\"dataframe\">\n",
       "  <thead>\n",
       "    <tr style=\"text-align: right;\">\n",
       "      <th></th>\n",
       "      <th>Candidate</th>\n",
       "      <th>sentiment</th>\n",
       "      <th>Count</th>\n",
       "    </tr>\n",
       "  </thead>\n",
       "  <tbody>\n",
       "    <tr>\n",
       "      <th>0</th>\n",
       "      <td>gaulandweidel</td>\n",
       "      <td>negative</td>\n",
       "      <td>307</td>\n",
       "    </tr>\n",
       "    <tr>\n",
       "      <th>1</th>\n",
       "      <td>gaulandweidel</td>\n",
       "      <td>neutral</td>\n",
       "      <td>1103</td>\n",
       "    </tr>\n",
       "    <tr>\n",
       "      <th>2</th>\n",
       "      <td>gaulandweidel</td>\n",
       "      <td>positive</td>\n",
       "      <td>931</td>\n",
       "    </tr>\n",
       "    <tr>\n",
       "      <th>3</th>\n",
       "      <td>merkel</td>\n",
       "      <td>negative</td>\n",
       "      <td>5081</td>\n",
       "    </tr>\n",
       "    <tr>\n",
       "      <th>4</th>\n",
       "      <td>merkel</td>\n",
       "      <td>neutral</td>\n",
       "      <td>13844</td>\n",
       "    </tr>\n",
       "    <tr>\n",
       "      <th>5</th>\n",
       "      <td>merkel</td>\n",
       "      <td>positive</td>\n",
       "      <td>10275</td>\n",
       "    </tr>\n",
       "    <tr>\n",
       "      <th>6</th>\n",
       "      <td>schulz</td>\n",
       "      <td>negative</td>\n",
       "      <td>3535</td>\n",
       "    </tr>\n",
       "    <tr>\n",
       "      <th>7</th>\n",
       "      <td>schulz</td>\n",
       "      <td>neutral</td>\n",
       "      <td>9464</td>\n",
       "    </tr>\n",
       "    <tr>\n",
       "      <th>8</th>\n",
       "      <td>schulz</td>\n",
       "      <td>positive</td>\n",
       "      <td>11197</td>\n",
       "    </tr>\n",
       "  </tbody>\n",
       "</table>\n",
       "</div>"
      ],
      "text/plain": [
       "       Candidate sentiment  Count\n",
       "0  gaulandweidel  negative    307\n",
       "1  gaulandweidel   neutral   1103\n",
       "2  gaulandweidel  positive    931\n",
       "3         merkel  negative   5081\n",
       "4         merkel   neutral  13844\n",
       "5         merkel  positive  10275\n",
       "6         schulz  negative   3535\n",
       "7         schulz   neutral   9464\n",
       "8         schulz  positive  11197"
      ]
     },
     "execution_count": 36,
     "metadata": {},
     "output_type": "execute_result"
    }
   ],
   "source": [
    "sample_with_sentiments_df.groupby([\"Candidate\", \"sentiment\"]).size().reset_index(name=\"Count\")"
   ]
  },
  {
   "cell_type": "code",
   "execution_count": 37,
   "metadata": {},
   "outputs": [
    {
     "data": {
      "text/html": [
       "<div>\n",
       "<style scoped>\n",
       "    .dataframe tbody tr th:only-of-type {\n",
       "        vertical-align: middle;\n",
       "    }\n",
       "\n",
       "    .dataframe tbody tr th {\n",
       "        vertical-align: top;\n",
       "    }\n",
       "\n",
       "    .dataframe thead th {\n",
       "        text-align: right;\n",
       "    }\n",
       "</style>\n",
       "<table border=\"1\" class=\"dataframe\">\n",
       "  <thead>\n",
       "    <tr style=\"text-align: right;\">\n",
       "      <th></th>\n",
       "      <th>Relevant</th>\n",
       "      <th>sentiment</th>\n",
       "      <th>Count</th>\n",
       "    </tr>\n",
       "  </thead>\n",
       "  <tbody>\n",
       "    <tr>\n",
       "      <th>0</th>\n",
       "      <td>NO</td>\n",
       "      <td>negative</td>\n",
       "      <td>2984</td>\n",
       "    </tr>\n",
       "    <tr>\n",
       "      <th>1</th>\n",
       "      <td>NO</td>\n",
       "      <td>neutral</td>\n",
       "      <td>7302</td>\n",
       "    </tr>\n",
       "    <tr>\n",
       "      <th>2</th>\n",
       "      <td>NO</td>\n",
       "      <td>positive</td>\n",
       "      <td>9395</td>\n",
       "    </tr>\n",
       "    <tr>\n",
       "      <th>3</th>\n",
       "      <td>YES</td>\n",
       "      <td>negative</td>\n",
       "      <td>5939</td>\n",
       "    </tr>\n",
       "    <tr>\n",
       "      <th>4</th>\n",
       "      <td>YES</td>\n",
       "      <td>neutral</td>\n",
       "      <td>17109</td>\n",
       "    </tr>\n",
       "    <tr>\n",
       "      <th>5</th>\n",
       "      <td>YES</td>\n",
       "      <td>positive</td>\n",
       "      <td>13008</td>\n",
       "    </tr>\n",
       "  </tbody>\n",
       "</table>\n",
       "</div>"
      ],
      "text/plain": [
       "  Relevant sentiment  Count\n",
       "0       NO  negative   2984\n",
       "1       NO   neutral   7302\n",
       "2       NO  positive   9395\n",
       "3      YES  negative   5939\n",
       "4      YES   neutral  17109\n",
       "5      YES  positive  13008"
      ]
     },
     "execution_count": 37,
     "metadata": {},
     "output_type": "execute_result"
    }
   ],
   "source": [
    "sample_with_sentiments_df.groupby([\"Relevant\", \"sentiment\"]).size().reset_index(name=\"Count\")"
   ]
  },
  {
   "cell_type": "code",
   "execution_count": 38,
   "metadata": {},
   "outputs": [
    {
     "data": {
      "text/html": [
       "<div>\n",
       "<style scoped>\n",
       "    .dataframe tbody tr th:only-of-type {\n",
       "        vertical-align: middle;\n",
       "    }\n",
       "\n",
       "    .dataframe tbody tr th {\n",
       "        vertical-align: top;\n",
       "    }\n",
       "\n",
       "    .dataframe thead th {\n",
       "        text-align: right;\n",
       "    }\n",
       "</style>\n",
       "<table border=\"1\" class=\"dataframe\">\n",
       "  <thead>\n",
       "    <tr style=\"text-align: right;\">\n",
       "      <th></th>\n",
       "      <th>text</th>\n",
       "      <th>Relevant</th>\n",
       "      <th>Mood_of_Speaker</th>\n",
       "      <th>created_at</th>\n",
       "      <th>Candidate</th>\n",
       "      <th>sentiment</th>\n",
       "    </tr>\n",
       "  </thead>\n",
       "  <tbody>\n",
       "    <tr>\n",
       "      <th>31259</th>\n",
       "      <td>RT CORRUPT SYSTEM PRODUCES SUSTAINS BAD PEOPLE...</td>\n",
       "      <td>NO</td>\n",
       "      <td>NOMOOD</td>\n",
       "      <td>2017-06-14 18:53:59</td>\n",
       "      <td>schulz</td>\n",
       "      <td>negative</td>\n",
       "    </tr>\n",
       "    <tr>\n",
       "      <th>45990</th>\n",
       "      <td>RT CORRUPT SYSTEM PRODUCES SUSTAINS BAD PEOPLE...</td>\n",
       "      <td>NO</td>\n",
       "      <td>NOMOOD</td>\n",
       "      <td>2017-06-14 18:54:52</td>\n",
       "      <td>schulz</td>\n",
       "      <td>negative</td>\n",
       "    </tr>\n",
       "    <tr>\n",
       "      <th>39212</th>\n",
       "      <td>RT CORRUPT SYSTEM PRODUCES SUSTAINS BAD PEOPLE...</td>\n",
       "      <td>NO</td>\n",
       "      <td>NOMOOD</td>\n",
       "      <td>2017-06-14 18:56:07</td>\n",
       "      <td>schulz</td>\n",
       "      <td>negative</td>\n",
       "    </tr>\n",
       "    <tr>\n",
       "      <th>42991</th>\n",
       "      <td>RT CORRUPT SYSTEM PRODUCES SUSTAINS BAD PEOPLE...</td>\n",
       "      <td>NO</td>\n",
       "      <td>NOMOOD</td>\n",
       "      <td>2017-06-14 18:56:43</td>\n",
       "      <td>schulz</td>\n",
       "      <td>negative</td>\n",
       "    </tr>\n",
       "    <tr>\n",
       "      <th>34525</th>\n",
       "      <td>RT CORRUPT SYSTEM PRODUCES SUSTAINS BAD PEOPLE...</td>\n",
       "      <td>NO</td>\n",
       "      <td>NOMOOD</td>\n",
       "      <td>2017-06-14 18:57:39</td>\n",
       "      <td>schulz</td>\n",
       "      <td>negative</td>\n",
       "    </tr>\n",
       "    <tr>\n",
       "      <th>21979</th>\n",
       "      <td>Merkel accused of RUINING Germany as New Year ...</td>\n",
       "      <td>YES</td>\n",
       "      <td>UNKNOWN</td>\n",
       "      <td>2017-06-14 18:57:46</td>\n",
       "      <td>merkel</td>\n",
       "      <td>positive</td>\n",
       "    </tr>\n",
       "    <tr>\n",
       "      <th>48019</th>\n",
       "      <td>RT Happiness is a warm puppy Charles M Schulz ...</td>\n",
       "      <td>NO</td>\n",
       "      <td>NOMOOD</td>\n",
       "      <td>2017-06-14 18:58:44</td>\n",
       "      <td>schulz</td>\n",
       "      <td>positive</td>\n",
       "    </tr>\n",
       "    <tr>\n",
       "      <th>26837</th>\n",
       "      <td>RT The Reign Of Terror and Downfall Of Liberti...</td>\n",
       "      <td>YES</td>\n",
       "      <td>UNKNOWN</td>\n",
       "      <td>2017-06-14 18:58:59</td>\n",
       "      <td>merkel</td>\n",
       "      <td>neutral</td>\n",
       "    </tr>\n",
       "    <tr>\n",
       "      <th>43740</th>\n",
       "      <td>RT CORRUPT SYSTEM PRODUCES SUSTAINS BAD PEOPLE...</td>\n",
       "      <td>NO</td>\n",
       "      <td>NOMOOD</td>\n",
       "      <td>2017-06-14 18:59:48</td>\n",
       "      <td>schulz</td>\n",
       "      <td>negative</td>\n",
       "    </tr>\n",
       "    <tr>\n",
       "      <th>3049</th>\n",
       "      <td>UPDATE 1 Germany s Merkel says EU ready to neg...</td>\n",
       "      <td>YES</td>\n",
       "      <td>UNKNOWN</td>\n",
       "      <td>2017-06-14 19:00:34</td>\n",
       "      <td>merkel</td>\n",
       "      <td>positive</td>\n",
       "    </tr>\n",
       "    <tr>\n",
       "      <th>37855</th>\n",
       "      <td>RT CORRUPT SYSTEM PRODUCES SUSTAINS BAD PEOPLE...</td>\n",
       "      <td>NO</td>\n",
       "      <td>NOMOOD</td>\n",
       "      <td>2017-06-14 19:00:44</td>\n",
       "      <td>schulz</td>\n",
       "      <td>negative</td>\n",
       "    </tr>\n",
       "    <tr>\n",
       "      <th>46336</th>\n",
       "      <td>RT CORRUPT SYSTEM PRODUCES SUSTAINS BAD PEOPLE...</td>\n",
       "      <td>NO</td>\n",
       "      <td>NOMOOD</td>\n",
       "      <td>2017-06-14 19:01:00</td>\n",
       "      <td>schulz</td>\n",
       "      <td>negative</td>\n",
       "    </tr>\n",
       "    <tr>\n",
       "      <th>35244</th>\n",
       "      <td>RT CORRUPT SYSTEM PRODUCES SUSTAINS BAD PEOPLE...</td>\n",
       "      <td>NO</td>\n",
       "      <td>NOMOOD</td>\n",
       "      <td>2017-06-14 19:02:39</td>\n",
       "      <td>schulz</td>\n",
       "      <td>negative</td>\n",
       "    </tr>\n",
       "    <tr>\n",
       "      <th>44328</th>\n",
       "      <td>RT CORRUPT SYSTEM PRODUCES SUSTAINS BAD PEOPLE...</td>\n",
       "      <td>NO</td>\n",
       "      <td>NOMOOD</td>\n",
       "      <td>2017-06-14 19:06:36</td>\n",
       "      <td>schulz</td>\n",
       "      <td>negative</td>\n",
       "    </tr>\n",
       "    <tr>\n",
       "      <th>35358</th>\n",
       "      <td>RT CORRUPT SYSTEM PRODUCES SUSTAINS BAD PEOPLE...</td>\n",
       "      <td>NO</td>\n",
       "      <td>NOMOOD</td>\n",
       "      <td>2017-06-14 19:13:03</td>\n",
       "      <td>schulz</td>\n",
       "      <td>negative</td>\n",
       "    </tr>\n",
       "    <tr>\n",
       "      <th>196</th>\n",
       "      <td>BE WARNED EU was founded by Nazis Monster Merk...</td>\n",
       "      <td>YES</td>\n",
       "      <td>UNKNOWN</td>\n",
       "      <td>2017-06-14 19:24:21</td>\n",
       "      <td>merkel</td>\n",
       "      <td>neutral</td>\n",
       "    </tr>\n",
       "    <tr>\n",
       "      <th>36422</th>\n",
       "      <td>RT CORRUPT SYSTEM PRODUCES SUSTAINS BAD PEOPLE...</td>\n",
       "      <td>NO</td>\n",
       "      <td>NOMOOD</td>\n",
       "      <td>2017-06-14 19:25:18</td>\n",
       "      <td>schulz</td>\n",
       "      <td>negative</td>\n",
       "    </tr>\n",
       "    <tr>\n",
       "      <th>52734</th>\n",
       "      <td>My luck Emily Morgan Schulz</td>\n",
       "      <td>NO</td>\n",
       "      <td>NOMOOD</td>\n",
       "      <td>2017-06-14 19:27:42</td>\n",
       "      <td>schulz</td>\n",
       "      <td>neutral</td>\n",
       "    </tr>\n",
       "    <tr>\n",
       "      <th>47935</th>\n",
       "      <td>RT CORRUPT SYSTEM PRODUCES SUSTAINS BAD PEOPLE...</td>\n",
       "      <td>NO</td>\n",
       "      <td>NOMOOD</td>\n",
       "      <td>2017-06-14 19:37:46</td>\n",
       "      <td>schulz</td>\n",
       "      <td>negative</td>\n",
       "    </tr>\n",
       "    <tr>\n",
       "      <th>19468</th>\n",
       "      <td>Merkel pledges German development aid increase...</td>\n",
       "      <td>YES</td>\n",
       "      <td>UNKNOWN</td>\n",
       "      <td>2017-06-14 19:37:55</td>\n",
       "      <td>merkel</td>\n",
       "      <td>positive</td>\n",
       "    </tr>\n",
       "  </tbody>\n",
       "</table>\n",
       "</div>"
      ],
      "text/plain": [
       "                                                    text Relevant  \\\n",
       "31259  RT CORRUPT SYSTEM PRODUCES SUSTAINS BAD PEOPLE...       NO   \n",
       "45990  RT CORRUPT SYSTEM PRODUCES SUSTAINS BAD PEOPLE...       NO   \n",
       "39212  RT CORRUPT SYSTEM PRODUCES SUSTAINS BAD PEOPLE...       NO   \n",
       "42991  RT CORRUPT SYSTEM PRODUCES SUSTAINS BAD PEOPLE...       NO   \n",
       "34525  RT CORRUPT SYSTEM PRODUCES SUSTAINS BAD PEOPLE...       NO   \n",
       "21979  Merkel accused of RUINING Germany as New Year ...      YES   \n",
       "48019  RT Happiness is a warm puppy Charles M Schulz ...       NO   \n",
       "26837  RT The Reign Of Terror and Downfall Of Liberti...      YES   \n",
       "43740  RT CORRUPT SYSTEM PRODUCES SUSTAINS BAD PEOPLE...       NO   \n",
       "3049   UPDATE 1 Germany s Merkel says EU ready to neg...      YES   \n",
       "37855  RT CORRUPT SYSTEM PRODUCES SUSTAINS BAD PEOPLE...       NO   \n",
       "46336  RT CORRUPT SYSTEM PRODUCES SUSTAINS BAD PEOPLE...       NO   \n",
       "35244  RT CORRUPT SYSTEM PRODUCES SUSTAINS BAD PEOPLE...       NO   \n",
       "44328  RT CORRUPT SYSTEM PRODUCES SUSTAINS BAD PEOPLE...       NO   \n",
       "35358  RT CORRUPT SYSTEM PRODUCES SUSTAINS BAD PEOPLE...       NO   \n",
       "196    BE WARNED EU was founded by Nazis Monster Merk...      YES   \n",
       "36422  RT CORRUPT SYSTEM PRODUCES SUSTAINS BAD PEOPLE...       NO   \n",
       "52734                        My luck Emily Morgan Schulz       NO   \n",
       "47935  RT CORRUPT SYSTEM PRODUCES SUSTAINS BAD PEOPLE...       NO   \n",
       "19468  Merkel pledges German development aid increase...      YES   \n",
       "\n",
       "      Mood_of_Speaker           created_at Candidate sentiment  \n",
       "31259          NOMOOD  2017-06-14 18:53:59    schulz  negative  \n",
       "45990          NOMOOD  2017-06-14 18:54:52    schulz  negative  \n",
       "39212          NOMOOD  2017-06-14 18:56:07    schulz  negative  \n",
       "42991          NOMOOD  2017-06-14 18:56:43    schulz  negative  \n",
       "34525          NOMOOD  2017-06-14 18:57:39    schulz  negative  \n",
       "21979         UNKNOWN  2017-06-14 18:57:46    merkel  positive  \n",
       "48019          NOMOOD  2017-06-14 18:58:44    schulz  positive  \n",
       "26837         UNKNOWN  2017-06-14 18:58:59    merkel   neutral  \n",
       "43740          NOMOOD  2017-06-14 18:59:48    schulz  negative  \n",
       "3049          UNKNOWN  2017-06-14 19:00:34    merkel  positive  \n",
       "37855          NOMOOD  2017-06-14 19:00:44    schulz  negative  \n",
       "46336          NOMOOD  2017-06-14 19:01:00    schulz  negative  \n",
       "35244          NOMOOD  2017-06-14 19:02:39    schulz  negative  \n",
       "44328          NOMOOD  2017-06-14 19:06:36    schulz  negative  \n",
       "35358          NOMOOD  2017-06-14 19:13:03    schulz  negative  \n",
       "196           UNKNOWN  2017-06-14 19:24:21    merkel   neutral  \n",
       "36422          NOMOOD  2017-06-14 19:25:18    schulz  negative  \n",
       "52734          NOMOOD  2017-06-14 19:27:42    schulz   neutral  \n",
       "47935          NOMOOD  2017-06-14 19:37:46    schulz  negative  \n",
       "19468         UNKNOWN  2017-06-14 19:37:55    merkel  positive  "
      ]
     },
     "execution_count": 38,
     "metadata": {},
     "output_type": "execute_result"
    }
   ],
   "source": [
    "sample_with_sentiments_df = sample_with_sentiments_df.sort_values(by='created_at')\n",
    "sample_with_sentiments_df.head(20)"
   ]
  },
  {
   "cell_type": "markdown",
   "metadata": {},
   "source": [
    "## Machine Learning \n",
    "\n",
    "### Pre-processing \n",
    "\n",
    "#### Bags of words\n",
    "\n",
    "The most intuitive way to do so is the bags of words representation:\n",
    "   1. assign a fixed integer id to each word occurring in any document of the training set (for instance by building a dictionary from words to integer indices).\n",
    "   2. for each document #i, count the number of occurrences of each word w and store it in X[i, j] as the value of feature #j where j is the index of word w in the dictionary\n",
    "\n",
    "The bags of words representation implies that __n_features__ is the number of distinct words in the corpus: this number is typically larger than 100,000.\n",
    "\n",
    "Fortunately, most values in X will be zeros since for a given document less than a couple thousands of distinct words will be used. For this reason we say that bags of words are typically high-dimensional sparse datasets. We can save a lot of memory by only storing the non-zero parts of the feature vectors in memory.\n",
    "\n",
    "__scipy.sparse__ matrices are data structures that do exactly this, and __scikit-learn__ has built-in support for these structures."
   ]
  },
  {
   "cell_type": "code",
   "execution_count": 39,
   "metadata": {},
   "outputs": [],
   "source": [
    "from sklearn.model_selection import train_test_split\n",
    "from sklearn.metrics import accuracy_score, confusion_matrix, classification_report\n",
    "from sklearn.feature_extraction.text import TfidfVectorizer\n",
    "from sklearn.feature_selection import SelectPercentile, f_classif\n",
    "from sklearn.preprocessing import label_binarize\n",
    "\n",
    "def data_preperation_for_machine_learning(data, x, y):\n",
    "    X = data[x]\n",
    "    y = data[y]\n",
    "\n",
    "    # test_size is the percentage of events assigned to the test set\n",
    "    # (remainder go into training) \n",
    "    # 70% Training and 30% Test dataset \n",
    "    features_train, features_test, labels_train, labels_test = train_test_split(X, y, \n",
    "                                                                                test_size=0.3, \n",
    "                                                                                random_state=42)\n",
    "\n",
    "    # text vectorization--go from strings to lists of numbers\n",
    "    vectorizer = TfidfVectorizer(sublinear_tf=True, max_df=0.5, stop_words='english')\n",
    "    features_train_transformed = vectorizer.fit_transform(features_train)\n",
    "    features_test_transformed  = vectorizer.transform(features_test)\n",
    "\n",
    "    # feature selection, because text is super high dimensional and \n",
    "    # can be really computationally chewy as a result\n",
    "    selector = SelectPercentile(f_classif, percentile=20)\n",
    "    selector.fit(features_train_transformed, labels_train)\n",
    "    features_train_transformed = selector.transform(features_train_transformed).toarray()\n",
    "    features_test_transformed  = selector.transform(features_test_transformed).toarray()\n",
    "    \n",
    "    return (features_train_transformed, features_test_transformed, labels_train, labels_test)"
   ]
  },
  {
   "cell_type": "markdown",
   "metadata": {},
   "source": [
    "### Helper function was creating classification report "
   ]
  },
  {
   "cell_type": "code",
   "execution_count": 40,
   "metadata": {},
   "outputs": [],
   "source": [
    "from sklearn.metrics import precision_recall_fscore_support\n",
    "from sklearn.utils.multiclass import unique_labels\n",
    "\n",
    "\n",
    "def classification_report_to_dataframe(ground_truth, predictions):\n",
    "    \"\"\"\n",
    "    Saves the classification report to dataframe using the pandas module.\n",
    "    :param ground_truth: list: the true labels\n",
    "    :param predictions: list: the predicted labels\n",
    "    :return: dataframe\n",
    "    \"\"\"\n",
    "    import pandas as pd\n",
    "\n",
    "    # get unique labels / classes\n",
    "    # - assuming all labels are in the sample at least once\n",
    "    labels = unique_labels(ground_truth, predictions)\n",
    "\n",
    "    # get results\n",
    "    precision, recall, f_score, support = precision_recall_fscore_support(ground_truth,\n",
    "                                                                          predictions,\n",
    "                                                                          labels=labels,\n",
    "                                                                          average=None)\n",
    "    # a pandas way:\n",
    "    results_pd = pd.DataFrame({\"class\": labels,\n",
    "                               \"precision\": precision,\n",
    "                               \"recall\": recall,\n",
    "                               \"fscore\": f_score\n",
    "                               })\n",
    "\n",
    "    return results_pd"
   ]
  },
  {
   "cell_type": "markdown",
   "metadata": {},
   "source": [
    "### Implementing Random Forest "
   ]
  },
  {
   "cell_type": "code",
   "execution_count": 41,
   "metadata": {},
   "outputs": [],
   "source": [
    "from time import time\n",
    "from sklearn.naive_bayes import GaussianNB\n",
    "from sklearn.svm import SVC\n",
    "from sklearn.ensemble import RandomForestClassifier\n",
    "from sklearn.metrics import confusion_matrix\n",
    "\n",
    "classifiers = ['NB','RF']\n",
    "\n",
    "def machine_learning_algorithm(features_train_transformed, \n",
    "                               features_test_transformed, labels_train, labels_test):\n",
    "    \n",
    "    results = {}\n",
    "    for classifier in classifiers:\n",
    "        if classifier == 'RF':\n",
    "            print(\"-------------------------------------------------\")\n",
    "            print(\"Implementing Random Forest\")\n",
    "            print(\"-------------------------------------------------\")\n",
    "            \n",
    "            clf = RandomForestClassifier()\n",
    "\n",
    "            t0 = time()\n",
    "            clf.fit(features_train_transformed, labels_train)\n",
    "            print ('Training time:', round(time()-t0, 3), 's')\n",
    "\n",
    "            t0 = time()\n",
    "            pred_train = clf.predict(features_train_transformed)\n",
    "            print ('Predicting time for training data:', round(time()-t0, 3), 's')\n",
    "\n",
    "            print ('Average Accuracy for training data:',accuracy_score(labels_train, pred_train)*100,'%')\n",
    "\n",
    "            t0 = time()\n",
    "            pred_test = clf.predict(features_test_transformed)\n",
    "            print ('Predicting time for testing data:', round(time()-t0, 3), 's')\n",
    "\n",
    "            print ('Average Accuracy for testing data:',accuracy_score(labels_test, pred_test)*100,'%')\n",
    "\n",
    "            print ('Classification Report for testing data:') \n",
    "            results_rf = classification_report_to_dataframe(labels_test, pred_test)\n",
    "            results_rf.index = results_rf['class']\n",
    "            results_rf.drop(results_rf.columns[[0]], axis = 1, inplace = True)\n",
    "            print (results_rf)\n",
    "            results['RF'] = results_rf\n",
    "        \n",
    "        if classifier == 'NB':\n",
    "            print(\"-------------------------------------------------\")\n",
    "            print(\"Implementing Naive Bayes\")\n",
    "            print(\"-------------------------------------------------\")\n",
    "            clf = GaussianNB()\n",
    "            \n",
    "            t0 = time()\n",
    "            clf.fit(features_train_transformed, labels_train)\n",
    "            print ('Training time:', round(time()-t0, 3), 's')\n",
    "\n",
    "            t0 = time()\n",
    "            pred_train = clf.predict(features_train_transformed)\n",
    "            print ('Predicting time for training data:', round(time()-t0, 3), 's')\n",
    "\n",
    "            print ('Average Accuracy for training data:',accuracy_score(labels_train, pred_train)*100,'%')\n",
    "\n",
    "            t0 = time()\n",
    "            pred_test = clf.predict(features_test_transformed)\n",
    "            print ('Predicting time for testing data:', round(time()-t0, 3), 's')\n",
    "\n",
    "            print ('Average Accuracy for testing data:',accuracy_score(labels_test, pred_test)*100,'%')\n",
    "\n",
    "            print ('Classification Report for testing data:') \n",
    "            results_nb = classification_report_to_dataframe(labels_test, pred_test)\n",
    "            results_nb.index = results_nb['class']\n",
    "            results_nb.drop(results_nb.columns[[0]], axis = 1, inplace = True)\n",
    "            print (results_nb)\n",
    "            results['NB'] = results_nb\n",
    "            \n",
    "        \n",
    "    return (results)"
   ]
  },
  {
   "cell_type": "markdown",
   "metadata": {},
   "source": [
    "### Define Targets"
   ]
  },
  {
   "cell_type": "code",
   "execution_count": 42,
   "metadata": {},
   "outputs": [],
   "source": [
    "targets = ['sentiment', 'Candidate', 'Relevant', 'Mood_of_Speaker']"
   ]
  },
  {
   "cell_type": "markdown",
   "metadata": {},
   "source": [
    "### Perform Machine Learning"
   ]
  },
  {
   "cell_type": "code",
   "execution_count": null,
   "metadata": {
    "scrolled": false
   },
   "outputs": [
    {
     "name": "stdout",
     "output_type": "stream",
     "text": [
      "Target Variable is : sentiment\n",
      "-------------------------------------------------\n",
      "-------------------------------------------------\n",
      "Implementing Naive Bayes\n",
      "-------------------------------------------------\n",
      "Training time: 3.155 s\n",
      "Predicting time for training data: 29.501 s\n",
      "Average Accuracy for training data: 87.65090349865436 %\n",
      "Predicting time for testing data: 2.413 s\n",
      "Average Accuracy for testing data: 83.83566559024041 %\n",
      "Classification Report for testing data:\n",
      "            fscore  precision    recall\n",
      "class                                  \n",
      "negative  0.703509   0.579221  0.895706\n",
      "neutral   0.909314   0.914552  0.904136\n",
      "positive  0.826399   0.929048  0.744176\n",
      "-------------------------------------------------\n",
      "Implementing Random Forest\n",
      "-------------------------------------------------\n",
      "Training time: 56.358 s\n",
      "Predicting time for training data: 1.084 s\n",
      "Average Accuracy for training data: 99.58990132000513 %\n",
      "Predicting time for testing data: 0.435 s\n",
      "Average Accuracy for testing data: 94.39062313120439 %\n",
      "Classification Report for testing data:\n",
      "            fscore  precision    recall\n",
      "class                                  \n",
      "negative  0.909163   0.946103  0.875000\n",
      "neutral   0.952845   0.926367  0.980881\n",
      "positive  0.946828   0.964159  0.930108\n",
      "-------------------------------------------------\n",
      "Target Variable is : Candidate\n",
      "-------------------------------------------------\n",
      "-------------------------------------------------\n",
      "Implementing Naive Bayes\n",
      "-------------------------------------------------\n",
      "Training time: 3.026 s\n",
      "Predicting time for training data: 5.393 s\n",
      "Average Accuracy for training data: 88.33781878764577 %\n",
      "Predicting time for testing data: 2.335 s\n",
      "Average Accuracy for testing data: 86.520751106327 %\n",
      "Classification Report for testing data:\n",
      "                 fscore  precision    recall\n",
      "class                                       \n",
      "gaulandweidel  0.482420   0.329545  0.899859\n",
      "merkel         0.877487   0.977691  0.795914\n",
      "schulz         0.920294   0.895456  0.946550\n",
      "-------------------------------------------------\n",
      "Implementing Random Forest\n",
      "-------------------------------------------------\n",
      "Training time: 18.471 s\n",
      "Predicting time for training data: 0.65 s\n",
      "Average Accuracy for training data: 99.99743688325003 %\n",
      "Predicting time for testing data: 0.285 s\n",
      "Average Accuracy for testing data: 99.93421839492883 %\n",
      "Classification Report for testing data:\n",
      "                 fscore  precision    recall\n",
      "class                                       \n",
      "gaulandweidel  1.000000   1.000000  1.000000\n",
      "merkel         0.999376   0.998866  0.999886\n",
      "schulz         0.999236   0.999861  0.998612\n",
      "-------------------------------------------------\n",
      "Target Variable is : Relevant\n",
      "-------------------------------------------------\n",
      "-------------------------------------------------\n",
      "Implementing Naive Bayes\n",
      "-------------------------------------------------\n",
      "Training time: 3.144 s\n",
      "Predicting time for training data: 3.775 s\n",
      "Average Accuracy for training data: 92.80276816608996 %\n",
      "Predicting time for testing data: 1.732 s\n",
      "Average Accuracy for testing data: 91.92680301399353 %\n",
      "Classification Report for testing data:\n",
      "         fscore  precision    recall\n",
      "class                               \n",
      "NO     0.892138   0.833781  0.959278\n",
      "YES    0.935493   0.976361  0.897909\n",
      "-------------------------------------------------\n",
      "Implementing Random Forest\n",
      "-------------------------------------------------\n"
     ]
    }
   ],
   "source": [
    "metrics = {}\n",
    "for target in targets:\n",
    "    print(\"Target Variable is :\", target)\n",
    "    print(\"-------------------------------------------------\")\n",
    "    (features_train_transformed, \n",
    "     features_test_transformed, \n",
    "     labels_train, labels_test) = data_preperation_for_machine_learning(sample_with_sentiments_df, 'text', target)\n",
    "    \n",
    "    metrics[target] = machine_learning_algorithm(features_train_transformed,features_test_transformed,labels_train,labels_test)\n",
    "    \n",
    "    print(\"-------------------------------------------------\")"
   ]
  },
  {
   "cell_type": "code",
   "execution_count": null,
   "metadata": {},
   "outputs": [],
   "source": []
  }
 ],
 "metadata": {
  "kernelspec": {
   "display_name": "Python 3",
   "language": "python",
   "name": "python3"
  },
  "language_info": {
   "codemirror_mode": {
    "name": "ipython",
    "version": 3
   },
   "file_extension": ".py",
   "mimetype": "text/x-python",
   "name": "python",
   "nbconvert_exporter": "python",
   "pygments_lexer": "ipython3",
   "version": "3.6.3"
  }
 },
 "nbformat": 4,
 "nbformat_minor": 2
}
