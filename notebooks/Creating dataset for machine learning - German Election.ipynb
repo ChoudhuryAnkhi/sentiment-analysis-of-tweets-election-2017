{
 "cells": [
  {
   "cell_type": "markdown",
   "metadata": {},
   "source": [
    "## Import the Dataset"
   ]
  },
  {
   "cell_type": "code",
   "execution_count": 1,
   "metadata": {},
   "outputs": [],
   "source": [
    "import pandas as pd\n",
    "import os\n",
    "from fnmatch import fnmatch"
   ]
  },
  {
   "cell_type": "code",
   "execution_count": 2,
   "metadata": {},
   "outputs": [],
   "source": [
    "rootdir = os.path.join(os.getcwd(),os.pardir)\n",
    "annotated_dir = os.path.join(rootdir,\"data/annotations\")\n",
    "pattern = \"*.csv\""
   ]
  },
  {
   "cell_type": "code",
   "execution_count": 3,
   "metadata": {},
   "outputs": [
    {
     "name": "stdout",
     "output_type": "stream",
     "text": [
      "annotated08.csv\n",
      "annotated10.csv\n",
      "annotated03.csv\n",
      "annotated09.csv\n",
      "annotated01.csv\n",
      "annotated02.csv\n",
      "annotated04.csv\n",
      "annotated11.csv\n",
      "annotated05.csv\n",
      "annotated06.csv\n",
      "annotated12.csv\n",
      "annotated07.csv\n"
     ]
    },
    {
     "data": {
      "text/html": [
       "<div>\n",
       "<style scoped>\n",
       "    .dataframe tbody tr th:only-of-type {\n",
       "        vertical-align: middle;\n",
       "    }\n",
       "\n",
       "    .dataframe tbody tr th {\n",
       "        vertical-align: top;\n",
       "    }\n",
       "\n",
       "    .dataframe thead th {\n",
       "        text-align: right;\n",
       "    }\n",
       "</style>\n",
       "<table border=\"1\" class=\"dataframe\">\n",
       "  <thead>\n",
       "    <tr style=\"text-align: right;\">\n",
       "      <th></th>\n",
       "      <th>Q0</th>\n",
       "      <th>Q1</th>\n",
       "      <th>Q2</th>\n",
       "      <th>Q3</th>\n",
       "      <th>created_at</th>\n",
       "      <th>text</th>\n",
       "    </tr>\n",
       "  </thead>\n",
       "  <tbody>\n",
       "    <tr>\n",
       "      <th>590748</th>\n",
       "      <td>YES</td>\n",
       "      <td>UNKNOWN</td>\n",
       "      <td>AFD</td>\n",
       "      <td>UNKNOWN</td>\n",
       "      <td>2017-07-03 08:57:48</td>\n",
       "      <td>RT FSchaerdel: Das wird eine kurze Entscheidun...</td>\n",
       "    </tr>\n",
       "    <tr>\n",
       "      <th>450785</th>\n",
       "      <td>YES</td>\n",
       "      <td>UNKNOWN</td>\n",
       "      <td>AFD</td>\n",
       "      <td>UNKNOWN</td>\n",
       "      <td>2017-06-30 18:32:08</td>\n",
       "      <td>RT AfD_Bund: Dr. Alexander Gauland: »Ehefueral...</td>\n",
       "    </tr>\n",
       "    <tr>\n",
       "      <th>576616</th>\n",
       "      <td>YES</td>\n",
       "      <td>UNKNOWN</td>\n",
       "      <td>AFD</td>\n",
       "      <td>UNKNOWN</td>\n",
       "      <td>2017-07-02 22:59:14</td>\n",
       "      <td>RT AfD_SOK: Pressemitteilung des Bundestagskan...</td>\n",
       "    </tr>\n",
       "    <tr>\n",
       "      <th>454156</th>\n",
       "      <td>YES</td>\n",
       "      <td>UNKNOWN</td>\n",
       "      <td>AFD</td>\n",
       "      <td>NEGATIVE</td>\n",
       "      <td>2017-06-30 19:11:03</td>\n",
       "      <td>RT erzaehlmirnix: AfD-Logik: LINK LINK</td>\n",
       "    </tr>\n",
       "    <tr>\n",
       "      <th>377905</th>\n",
       "      <td>YES</td>\n",
       "      <td>UNKNOWN</td>\n",
       "      <td>AFD</td>\n",
       "      <td>NEGATIVE</td>\n",
       "      <td>2017-06-30 08:56:10</td>\n",
       "      <td>JungeFreiheit Dramatischer Einstellungswandel ...</td>\n",
       "    </tr>\n",
       "  </tbody>\n",
       "</table>\n",
       "</div>"
      ],
      "text/plain": [
       "         Q0       Q1   Q2        Q3           created_at  \\\n",
       "590748  YES  UNKNOWN  AFD   UNKNOWN  2017-07-03 08:57:48   \n",
       "450785  YES  UNKNOWN  AFD   UNKNOWN  2017-06-30 18:32:08   \n",
       "576616  YES  UNKNOWN  AFD   UNKNOWN  2017-07-02 22:59:14   \n",
       "454156  YES  UNKNOWN  AFD  NEGATIVE  2017-06-30 19:11:03   \n",
       "377905  YES  UNKNOWN  AFD  NEGATIVE  2017-06-30 08:56:10   \n",
       "\n",
       "                                                     text  \n",
       "590748  RT FSchaerdel: Das wird eine kurze Entscheidun...  \n",
       "450785  RT AfD_Bund: Dr. Alexander Gauland: »Ehefueral...  \n",
       "576616  RT AfD_SOK: Pressemitteilung des Bundestagskan...  \n",
       "454156             RT erzaehlmirnix: AfD-Logik: LINK LINK  \n",
       "377905  JungeFreiheit Dramatischer Einstellungswandel ...  "
      ]
     },
     "execution_count": 3,
     "metadata": {},
     "output_type": "execute_result"
    }
   ],
   "source": [
    "# annotated files were generated in batches of 500 \n",
    "# combine them together and add to training set\n",
    "gen = [file for file in os.listdir(annotated_dir) if fnmatch(file,pattern)]\n",
    "train_df = pd.DataFrame()\n",
    "for file in gen:\n",
    "    filepath=os.path.join(annotated_dir,file)\n",
    "    print(file)\n",
    "    annotated_df = pd.read_csv(filepath, index_col=0)\n",
    "    train_df = pd.concat([train_df, annotated_df])\n",
    "train_df.head()"
   ]
  },
  {
   "cell_type": "code",
   "execution_count": 4,
   "metadata": {},
   "outputs": [
    {
     "data": {
      "text/plain": [
       "Index(['Q0', 'Q1', 'Q2', 'Q3', 'created_at', 'text'], dtype='object')"
      ]
     },
     "execution_count": 4,
     "metadata": {},
     "output_type": "execute_result"
    }
   ],
   "source": [
    "#quickly take a look at the structure to understand the columns available to us\n",
    "train_df.columns"
   ]
  },
  {
   "cell_type": "code",
   "execution_count": 5,
   "metadata": {},
   "outputs": [],
   "source": [
    "# \n",
    "nrows = None # if you want the whole data\n",
    "#nrows = 10000 # 10K is fast to load but still varied enough\n",
    "test_df = pd.read_csv( os.path.join( rootdir,\n",
    "                                    \"data\",\n",
    "                                    \"processed\",\n",
    "                                    \"tweets.csv\"),\n",
    "                      nrows=nrows)\n",
    "test_df.set_index('id',inplace=True)"
   ]
  },
  {
   "cell_type": "code",
   "execution_count": 6,
   "metadata": {},
   "outputs": [
    {
     "data": {
      "text/html": [
       "<div>\n",
       "<style scoped>\n",
       "    .dataframe tbody tr th:only-of-type {\n",
       "        vertical-align: middle;\n",
       "    }\n",
       "\n",
       "    .dataframe tbody tr th {\n",
       "        vertical-align: top;\n",
       "    }\n",
       "\n",
       "    .dataframe thead th {\n",
       "        text-align: right;\n",
       "    }\n",
       "</style>\n",
       "<table border=\"1\" class=\"dataframe\">\n",
       "  <thead>\n",
       "    <tr style=\"text-align: right;\">\n",
       "      <th></th>\n",
       "      <th>created_at</th>\n",
       "      <th>text</th>\n",
       "    </tr>\n",
       "    <tr>\n",
       "      <th>id</th>\n",
       "      <th></th>\n",
       "      <th></th>\n",
       "    </tr>\n",
       "  </thead>\n",
       "  <tbody>\n",
       "    <tr>\n",
       "      <th>875063024486293504</th>\n",
       "      <td>2017-06-14 18:50:57</td>\n",
       "      <td>Spoke to the young leaders of the 18th Annual ...</td>\n",
       "    </tr>\n",
       "    <tr>\n",
       "      <th>875063094220861440</th>\n",
       "      <td>2017-06-14 18:51:14</td>\n",
       "      <td>RT @ABCNews4: Chris Singleton of CSU drafted b...</td>\n",
       "    </tr>\n",
       "    <tr>\n",
       "      <th>875063277520388096</th>\n",
       "      <td>2017-06-14 18:51:57</td>\n",
       "      <td>RT @Rubysayzz: CORRUPT SYSTEM PRODUCES &amp; SUSTA...</td>\n",
       "    </tr>\n",
       "    <tr>\n",
       "      <th>875063305748054016</th>\n",
       "      <td>2017-06-14 18:52:04</td>\n",
       "      <td>RT @Irelandbrexit: Merkel justifies her migran...</td>\n",
       "    </tr>\n",
       "    <tr>\n",
       "      <th>875063528335474688</th>\n",
       "      <td>2017-06-14 18:52:57</td>\n",
       "      <td>RT @Rubysayzz: CORRUPT SYSTEM PRODUCES &amp; SUSTA...</td>\n",
       "    </tr>\n",
       "  </tbody>\n",
       "</table>\n",
       "</div>"
      ],
      "text/plain": [
       "                             created_at  \\\n",
       "id                                        \n",
       "875063024486293504  2017-06-14 18:50:57   \n",
       "875063094220861440  2017-06-14 18:51:14   \n",
       "875063277520388096  2017-06-14 18:51:57   \n",
       "875063305748054016  2017-06-14 18:52:04   \n",
       "875063528335474688  2017-06-14 18:52:57   \n",
       "\n",
       "                                                                 text  \n",
       "id                                                                     \n",
       "875063024486293504  Spoke to the young leaders of the 18th Annual ...  \n",
       "875063094220861440  RT @ABCNews4: Chris Singleton of CSU drafted b...  \n",
       "875063277520388096  RT @Rubysayzz: CORRUPT SYSTEM PRODUCES & SUSTA...  \n",
       "875063305748054016  RT @Irelandbrexit: Merkel justifies her migran...  \n",
       "875063528335474688  RT @Rubysayzz: CORRUPT SYSTEM PRODUCES & SUSTA...  "
      ]
     },
     "execution_count": 6,
     "metadata": {},
     "output_type": "execute_result"
    }
   ],
   "source": [
    "#print out first few lines of dataframe\n",
    "# be on the lookout for anything that seems out of place\n",
    "test_df.head()"
   ]
  },
  {
   "cell_type": "code",
   "execution_count": 7,
   "metadata": {},
   "outputs": [
    {
     "name": "stdout",
     "output_type": "stream",
     "text": [
      "<class 'pandas.core.frame.DataFrame'>\n",
      "Int64Index: 2021752 entries, 875063024486293504 to 915725234233159680\n",
      "Data columns (total 2 columns):\n",
      "created_at    object\n",
      "text          object\n",
      "dtypes: object(2)\n",
      "memory usage: 46.3+ MB\n"
     ]
    }
   ],
   "source": [
    "test_df.info()"
   ]
  },
  {
   "cell_type": "markdown",
   "metadata": {},
   "source": [
    "## Remove Null values from training data"
   ]
  },
  {
   "cell_type": "code",
   "execution_count": 8,
   "metadata": {
    "collapsed": true
   },
   "outputs": [],
   "source": [
    "# NULL or NA on text column means that there was an error with the format, \n",
    "#    as each line is supposed to have one tweet!!\n",
    "# NULL or NA on Q0 means that this tweet hasn't been annotated by mistake. \n",
    "#    Or that this tweet hasn't been annotated yet. \n",
    "#    This enabled us to work with partially annotated files. \n",
    "train_df.dropna(subset=['text','Q0'], inplace=True)"
   ]
  },
  {
   "cell_type": "code",
   "execution_count": 9,
   "metadata": {},
   "outputs": [
    {
     "name": "stdout",
     "output_type": "stream",
     "text": [
      "<class 'pandas.core.frame.DataFrame'>\n",
      "Int64Index: 5092 entries, 590748 to 508736\n",
      "Data columns (total 6 columns):\n",
      "Q0            5092 non-null object\n",
      "Q1            4652 non-null object\n",
      "Q2            4652 non-null object\n",
      "Q3            4652 non-null object\n",
      "created_at    4094 non-null object\n",
      "text          5092 non-null object\n",
      "dtypes: object(6)\n",
      "memory usage: 278.5+ KB\n"
     ]
    }
   ],
   "source": [
    "# counting the number of entries and looking at cumulative NULLness\n",
    "# Q0 is completely NULL free\n",
    "# Q1,Q2,Q3 were left empty for the case where the tweets were judged to be NOT RELEVANT\n",
    "train_df.info()\n",
    "# note the Int64Index -- pandas supports 64 bit integers \n",
    "#    - we do not have to covert the indices to strings like R"
   ]
  },
  {
   "cell_type": "code",
   "execution_count": 10,
   "metadata": {},
   "outputs": [],
   "source": [
    "#  Some dates appear to be missing - warrants some investigation!!\n",
    "missing_df = train_df[train_df.created_at.isna()]\n",
    "# Seems like we have 998 entries (maybe from the same annotation set) with missing dates\n",
    "# Can we go into the test set and repopulate the date values?"
   ]
  },
  {
   "cell_type": "code",
   "execution_count": 11,
   "metadata": {},
   "outputs": [
    {
     "data": {
      "text/html": [
       "<div>\n",
       "<style scoped>\n",
       "    .dataframe tbody tr th:only-of-type {\n",
       "        vertical-align: middle;\n",
       "    }\n",
       "\n",
       "    .dataframe tbody tr th {\n",
       "        vertical-align: top;\n",
       "    }\n",
       "\n",
       "    .dataframe thead th {\n",
       "        text-align: right;\n",
       "    }\n",
       "</style>\n",
       "<table border=\"1\" class=\"dataframe\">\n",
       "  <thead>\n",
       "    <tr style=\"text-align: right;\">\n",
       "      <th></th>\n",
       "      <th>created_at</th>\n",
       "      <th>text</th>\n",
       "    </tr>\n",
       "  </thead>\n",
       "  <tbody>\n",
       "    <tr>\n",
       "      <th>902112185685565441</th>\n",
       "      <td>2017-08-28 10:14:40</td>\n",
       "      <td>Angela Merkel insists she has no regrets over ...</td>\n",
       "    </tr>\n",
       "    <tr>\n",
       "      <th>902612931560574977</th>\n",
       "      <td>2017-08-29 19:24:27</td>\n",
       "      <td>Lol made a friend my first day at csu &amp; now sh...</td>\n",
       "    </tr>\n",
       "    <tr>\n",
       "      <th>902593242390286337</th>\n",
       "      <td>2017-08-29 18:06:13</td>\n",
       "      <td>@Model3Owners and yet Merkel said combustion e...</td>\n",
       "    </tr>\n",
       "    <tr>\n",
       "      <th>902365247075479553</th>\n",
       "      <td>2017-08-29 03:00:14</td>\n",
       "      <td>@salmaankhwaja Partly Cloudy in #Karachi with ...</td>\n",
       "    </tr>\n",
       "    <tr>\n",
       "      <th>902062462710812672</th>\n",
       "      <td>2017-08-28 06:57:05</td>\n",
       "      <td>#GermanyDecids🇩🇪: Too many think pieces on Mer...</td>\n",
       "    </tr>\n",
       "  </tbody>\n",
       "</table>\n",
       "</div>"
      ],
      "text/plain": [
       "                             created_at  \\\n",
       "902112185685565441  2017-08-28 10:14:40   \n",
       "902612931560574977  2017-08-29 19:24:27   \n",
       "902593242390286337  2017-08-29 18:06:13   \n",
       "902365247075479553  2017-08-29 03:00:14   \n",
       "902062462710812672  2017-08-28 06:57:05   \n",
       "\n",
       "                                                                 text  \n",
       "902112185685565441  Angela Merkel insists she has no regrets over ...  \n",
       "902612931560574977  Lol made a friend my first day at csu & now sh...  \n",
       "902593242390286337  @Model3Owners and yet Merkel said combustion e...  \n",
       "902365247075479553  @salmaankhwaja Partly Cloudy in #Karachi with ...  \n",
       "902062462710812672  #GermanyDecids🇩🇪: Too many think pieces on Mer...  "
      ]
     },
     "execution_count": 11,
     "metadata": {},
     "output_type": "execute_result"
    }
   ],
   "source": [
    "#turns out that there was an issue with the index. \n",
    "# the index of missingdf corresponds to twitter ids \n",
    "#   -- which we somehow dropped for the other tweets - but retained for the 998 in missing_df\n",
    "\n",
    "(test_df\n",
    " .loc[missing_df.index,:]\n",
    ").head()"
   ]
  },
  {
   "cell_type": "code",
   "execution_count": 12,
   "metadata": {},
   "outputs": [
    {
     "name": "stdout",
     "output_type": "stream",
     "text": [
      "<class 'pandas.core.frame.DataFrame'>\n",
      "Int64Index: 5092 entries, 590748 to 508736\n",
      "Data columns (total 6 columns):\n",
      "Q0            5092 non-null object\n",
      "Q1            4652 non-null object\n",
      "Q2            4652 non-null object\n",
      "Q3            4652 non-null object\n",
      "created_at    5092 non-null object\n",
      "text          5092 non-null object\n",
      "dtypes: object(6)\n",
      "memory usage: 438.5+ KB\n"
     ]
    }
   ],
   "source": [
    "#putting everything together\n",
    "train_df.loc[missing_df.index,'created_at'] = test_df.loc[missing_df.index,'created_at']\n",
    "train_df.info()\n",
    "#we fixed the mismatch"
   ]
  },
  {
   "cell_type": "code",
   "execution_count": 13,
   "metadata": {},
   "outputs": [
    {
     "name": "stdout",
     "output_type": "stream",
     "text": [
      "<class 'pandas.core.frame.DataFrame'>\n",
      "Int64Index: 2021752 entries, 875063024486293504 to 915725234233159680\n",
      "Data columns (total 2 columns):\n",
      "created_at    object\n",
      "text          object\n",
      "dtypes: object(2)\n",
      "memory usage: 126.3+ MB\n"
     ]
    }
   ],
   "source": [
    "#nothing out of the ordinary here\n",
    "test_df.info()"
   ]
  },
  {
   "cell_type": "code",
   "execution_count": 14,
   "metadata": {},
   "outputs": [],
   "source": [
    "#test_df = test_df.loc[test_df['lang'] == 'en']\n",
    "#en_test_df = test_df[['created_at', 'text']]\n",
    "#print(en_test_df.shape)\n",
    "#en_test_df.head()\n",
    "## this was the earlier code to filter out english tweets\n",
    "##  -- but the process was eating up the RAM \n",
    "##  -- now this is done by `src/data/make_dataset.py` using the csv module"
   ]
  },
  {
   "cell_type": "code",
   "execution_count": 15,
   "metadata": {},
   "outputs": [],
   "source": [
    "#time_df = pd.DataFrame(test_df[['created_at']])\n",
    "#time_df = time_df.reset_index(drop=True)\n",
    "#time_df.head()\n",
    "## this column of timestamps is extracted and kept aside. \n",
    "## Later the cleaned tweets shall be combined with this and a dataframe created \n",
    "## not needed anymore due to df.apply"
   ]
  },
  {
   "cell_type": "markdown",
   "metadata": {},
   "source": [
    "## Data Cleaning"
   ]
  },
  {
   "cell_type": "code",
   "execution_count": 16,
   "metadata": {
    "collapsed": true
   },
   "outputs": [],
   "source": [
    "# does two things \n",
    "# 1. substitutes undesirable entities like mentions and links with blanks\n",
    "#   a. remove @mentions\n",
    "#   b. remove protocol://links.com\n",
    "#   c. remove special characters like !@#$%^&*()\n",
    "# 2. replaces multiple spaces by a single space\n",
    "import re\n",
    "def clean_tweet(tweet):\n",
    "        '''\n",
    "        Utility function to clean tweet text by removing links, special characters\n",
    "        using simple regex statements.\n",
    "        '''\n",
    "        return ' '.join(re.sub(\"(@[A-Za-z0-9]+)|([^0-9A-Za-z \\t])|(\\w+:\\/\\/\\S+)\", \" \", tweet).split())"
   ]
  },
  {
   "cell_type": "code",
   "execution_count": 17,
   "metadata": {
    "collapsed": true
   },
   "outputs": [],
   "source": [
    "# loops over rows of dataframe to create a list of dictionaries called parsed_tweets.\n",
    "# the list of dictionaries is easy to form a new dataframe from\n",
    "# however, using apply sidesteps this complex process into a one-liner\n",
    "\n",
    "\n",
    "# def parse_data(tweets):\n",
    "#     parsed_tweets = []\n",
    "#     cnt = 0\n",
    "#     for tweet in tweets:\n",
    "#         cnt += 1\n",
    "#         # empty dictionary to store required params of a tweets\n",
    "#         parsed_tweet = {}\n",
    "#         # cleaning text of tweet\n",
    "#         parsed_tweet['text'] = clean_tweet(tweet)\n",
    "#         parsed_tweets.append(parsed_tweet)\n",
    "#     print (\"Cleaned data for %d tweet\" % cnt)\n",
    "#     return parsed_tweets"
   ]
  },
  {
   "cell_type": "code",
   "execution_count": 18,
   "metadata": {},
   "outputs": [],
   "source": [
    "# new column is created with clean tweets\n",
    "# clean_test_df = pd.DataFrame(parse_data(test_df['text'].tolist()))"
   ]
  },
  {
   "cell_type": "code",
   "execution_count": 19,
   "metadata": {
    "collapsed": true
   },
   "outputs": [],
   "source": [
    "# join two columns into one dataframe\n",
    "# axis = 1 means that columns are being added\n",
    "# axis =0, which is the default, adds new rows\n",
    "# clean_test_df = pd.concat([time_df, clean_test_df], axis=1)"
   ]
  },
  {
   "cell_type": "code",
   "execution_count": 20,
   "metadata": {},
   "outputs": [],
   "source": [
    "# clean_train_df = pd.DataFrame(parse_data(train_df['text'].tolist()))\n",
    "# same process of creating columns and combining them\n",
    "#   into a dataframe is repeated for the training data"
   ]
  },
  {
   "cell_type": "code",
   "execution_count": 21,
   "metadata": {
    "collapsed": true
   },
   "outputs": [],
   "source": [
    "# selected_train_df = train_df[['Q0', 'Q1']].reset_index(drop=True)\n",
    "# creates a new index and demotes the older index to yet another lowly column\n",
    "# drops the entries if all other columns were NA"
   ]
  },
  {
   "cell_type": "code",
   "execution_count": 22,
   "metadata": {
    "collapsed": true
   },
   "outputs": [],
   "source": [
    "# clean_train_df = pd.concat([clean_train_df, selected_train_df], axis=1)"
   ]
  },
  {
   "cell_type": "code",
   "execution_count": 23,
   "metadata": {},
   "outputs": [],
   "source": [
    "# clean_train_df.head()"
   ]
  },
  {
   "cell_type": "code",
   "execution_count": 24,
   "metadata": {},
   "outputs": [
    {
     "data": {
      "text/plain": [
       "id\n",
       "875063024486293504    Spoke to the young leaders of the 18th Annual ...\n",
       "875063094220861440    RT Chris Singleton of CSU drafted by Chicago C...\n",
       "875063277520388096    RT CORRUPT SYSTEM PRODUCES SUSTAINS BAD PEOPLE...\n",
       "875063305748054016    RT Merkel justifies her migrant policy by sayi...\n",
       "875063528335474688    RT CORRUPT SYSTEM PRODUCES SUSTAINS BAD PEOPLE...\n",
       "Name: text, dtype: object"
      ]
     },
     "execution_count": 24,
     "metadata": {},
     "output_type": "execute_result"
    }
   ],
   "source": [
    "# everything since clean_tweets was defined can be done in one line like so-- \n",
    "test_df.head().text.apply(clean_tweet)\n",
    "# this is why the code above is commented out\n",
    "# TIP: use ctrl+/ to comment out code"
   ]
  },
  {
   "cell_type": "code",
   "execution_count": 25,
   "metadata": {},
   "outputs": [
    {
     "data": {
      "text/html": [
       "<div>\n",
       "<style scoped>\n",
       "    .dataframe tbody tr th:only-of-type {\n",
       "        vertical-align: middle;\n",
       "    }\n",
       "\n",
       "    .dataframe tbody tr th {\n",
       "        vertical-align: top;\n",
       "    }\n",
       "\n",
       "    .dataframe thead th {\n",
       "        text-align: right;\n",
       "    }\n",
       "</style>\n",
       "<table border=\"1\" class=\"dataframe\">\n",
       "  <thead>\n",
       "    <tr style=\"text-align: right;\">\n",
       "      <th></th>\n",
       "      <th>Q0</th>\n",
       "      <th>Q1</th>\n",
       "      <th>Q2</th>\n",
       "      <th>Q3</th>\n",
       "      <th>created_at</th>\n",
       "      <th>text</th>\n",
       "    </tr>\n",
       "  </thead>\n",
       "  <tbody>\n",
       "    <tr>\n",
       "      <th>590748</th>\n",
       "      <td>YES</td>\n",
       "      <td>UNKNOWN</td>\n",
       "      <td>AFD</td>\n",
       "      <td>UNKNOWN</td>\n",
       "      <td>2017-07-03 08:57:48</td>\n",
       "      <td>RT FSchaerdel Das wird eine kurze Entscheidung...</td>\n",
       "    </tr>\n",
       "    <tr>\n",
       "      <th>450785</th>\n",
       "      <td>YES</td>\n",
       "      <td>UNKNOWN</td>\n",
       "      <td>AFD</td>\n",
       "      <td>UNKNOWN</td>\n",
       "      <td>2017-06-30 18:32:08</td>\n",
       "      <td>RT AfD Bund Dr Alexander Gauland Ehefueralle E...</td>\n",
       "    </tr>\n",
       "    <tr>\n",
       "      <th>576616</th>\n",
       "      <td>YES</td>\n",
       "      <td>UNKNOWN</td>\n",
       "      <td>AFD</td>\n",
       "      <td>UNKNOWN</td>\n",
       "      <td>2017-07-02 22:59:14</td>\n",
       "      <td>RT AfD SOK Pressemitteilung des Bundestagskand...</td>\n",
       "    </tr>\n",
       "    <tr>\n",
       "      <th>454156</th>\n",
       "      <td>YES</td>\n",
       "      <td>UNKNOWN</td>\n",
       "      <td>AFD</td>\n",
       "      <td>NEGATIVE</td>\n",
       "      <td>2017-06-30 19:11:03</td>\n",
       "      <td>RT erzaehlmirnix AfD Logik LINK LINK</td>\n",
       "    </tr>\n",
       "    <tr>\n",
       "      <th>377905</th>\n",
       "      <td>YES</td>\n",
       "      <td>UNKNOWN</td>\n",
       "      <td>AFD</td>\n",
       "      <td>NEGATIVE</td>\n",
       "      <td>2017-06-30 08:56:10</td>\n",
       "      <td>JungeFreiheit Dramatischer Einstellungswandel ...</td>\n",
       "    </tr>\n",
       "  </tbody>\n",
       "</table>\n",
       "</div>"
      ],
      "text/plain": [
       "         Q0       Q1   Q2        Q3           created_at  \\\n",
       "590748  YES  UNKNOWN  AFD   UNKNOWN  2017-07-03 08:57:48   \n",
       "450785  YES  UNKNOWN  AFD   UNKNOWN  2017-06-30 18:32:08   \n",
       "576616  YES  UNKNOWN  AFD   UNKNOWN  2017-07-02 22:59:14   \n",
       "454156  YES  UNKNOWN  AFD  NEGATIVE  2017-06-30 19:11:03   \n",
       "377905  YES  UNKNOWN  AFD  NEGATIVE  2017-06-30 08:56:10   \n",
       "\n",
       "                                                     text  \n",
       "590748  RT FSchaerdel Das wird eine kurze Entscheidung...  \n",
       "450785  RT AfD Bund Dr Alexander Gauland Ehefueralle E...  \n",
       "576616  RT AfD SOK Pressemitteilung des Bundestagskand...  \n",
       "454156               RT erzaehlmirnix AfD Logik LINK LINK  \n",
       "377905  JungeFreiheit Dramatischer Einstellungswandel ...  "
      ]
     },
     "execution_count": 25,
     "metadata": {},
     "output_type": "execute_result"
    }
   ],
   "source": [
    "# putting everything together\n",
    "clean_train_df = train_df\n",
    "clean_train_df['text'] = train_df.text.apply(clean_tweet)\n",
    "clean_train_df.head()"
   ]
  },
  {
   "cell_type": "code",
   "execution_count": 26,
   "metadata": {},
   "outputs": [
    {
     "data": {
      "text/html": [
       "<div>\n",
       "<style scoped>\n",
       "    .dataframe tbody tr th:only-of-type {\n",
       "        vertical-align: middle;\n",
       "    }\n",
       "\n",
       "    .dataframe tbody tr th {\n",
       "        vertical-align: top;\n",
       "    }\n",
       "\n",
       "    .dataframe thead th {\n",
       "        text-align: right;\n",
       "    }\n",
       "</style>\n",
       "<table border=\"1\" class=\"dataframe\">\n",
       "  <thead>\n",
       "    <tr style=\"text-align: right;\">\n",
       "      <th></th>\n",
       "      <th>created_at</th>\n",
       "      <th>text</th>\n",
       "    </tr>\n",
       "    <tr>\n",
       "      <th>id</th>\n",
       "      <th></th>\n",
       "      <th></th>\n",
       "    </tr>\n",
       "  </thead>\n",
       "  <tbody>\n",
       "    <tr>\n",
       "      <th>875063024486293504</th>\n",
       "      <td>2017-06-14 18:50:57</td>\n",
       "      <td>Spoke to the young leaders of the 18th Annual ...</td>\n",
       "    </tr>\n",
       "    <tr>\n",
       "      <th>875063094220861440</th>\n",
       "      <td>2017-06-14 18:51:14</td>\n",
       "      <td>RT Chris Singleton of CSU drafted by Chicago C...</td>\n",
       "    </tr>\n",
       "    <tr>\n",
       "      <th>875063277520388096</th>\n",
       "      <td>2017-06-14 18:51:57</td>\n",
       "      <td>RT CORRUPT SYSTEM PRODUCES SUSTAINS BAD PEOPLE...</td>\n",
       "    </tr>\n",
       "    <tr>\n",
       "      <th>875063305748054016</th>\n",
       "      <td>2017-06-14 18:52:04</td>\n",
       "      <td>RT Merkel justifies her migrant policy by sayi...</td>\n",
       "    </tr>\n",
       "    <tr>\n",
       "      <th>875063528335474688</th>\n",
       "      <td>2017-06-14 18:52:57</td>\n",
       "      <td>RT CORRUPT SYSTEM PRODUCES SUSTAINS BAD PEOPLE...</td>\n",
       "    </tr>\n",
       "  </tbody>\n",
       "</table>\n",
       "</div>"
      ],
      "text/plain": [
       "                             created_at  \\\n",
       "id                                        \n",
       "875063024486293504  2017-06-14 18:50:57   \n",
       "875063094220861440  2017-06-14 18:51:14   \n",
       "875063277520388096  2017-06-14 18:51:57   \n",
       "875063305748054016  2017-06-14 18:52:04   \n",
       "875063528335474688  2017-06-14 18:52:57   \n",
       "\n",
       "                                                                 text  \n",
       "id                                                                     \n",
       "875063024486293504  Spoke to the young leaders of the 18th Annual ...  \n",
       "875063094220861440  RT Chris Singleton of CSU drafted by Chicago C...  \n",
       "875063277520388096  RT CORRUPT SYSTEM PRODUCES SUSTAINS BAD PEOPLE...  \n",
       "875063305748054016  RT Merkel justifies her migrant policy by sayi...  \n",
       "875063528335474688  RT CORRUPT SYSTEM PRODUCES SUSTAINS BAD PEOPLE...  "
      ]
     },
     "execution_count": 26,
     "metadata": {},
     "output_type": "execute_result"
    }
   ],
   "source": [
    "#similarly for the test set \n",
    "clean_test_df = test_df\n",
    "clean_test_df['text'] = test_df.text.apply(clean_tweet)\n",
    "clean_test_df.head()"
   ]
  },
  {
   "cell_type": "markdown",
   "metadata": {},
   "source": [
    "## Machine Learning to predict Q0 and Q1 for Test Dataset"
   ]
  },
  {
   "cell_type": "code",
   "execution_count": 27,
   "metadata": {
    "collapsed": true
   },
   "outputs": [],
   "source": [
    "# this is not required anymore\n",
    "# in an earlier version the column names were inconsistent\n",
    "column_dict = {'Q0': 'Q0_RELEVANT',\n",
    "               'Q1': 'Q1_mood_of_speaker'}"
   ]
  },
  {
   "cell_type": "code",
   "execution_count": 28,
   "metadata": {
    "collapsed": true
   },
   "outputs": [],
   "source": [
    "# try to guess what these functions do\n",
    "# it is very important to understand what these do\n",
    "\n",
    "from sklearn.feature_extraction.text import TfidfVectorizer\n",
    "from sklearn.ensemble import RandomForestClassifier\n",
    "from sklearn.model_selection import train_test_split\n",
    "from sklearn.metrics import accuracy_score\n",
    "\n",
    "# takes in the training and testing dataframes \n",
    "# uses the trained model to make predictions\n",
    "# here we use Random Forest on the annotated tweets\n",
    "def train_and_predict(df_train, df_test, column=\"Q0\",verbose=True):\n",
    "    cv = TfidfVectorizer(min_df=1, stop_words='english')\n",
    "    \n",
    "    mask = (df_train[\"Q0\"] == \"YES\")\n",
    "    if column== \"Q0\":\n",
    "        df_train_ = df_train\n",
    "    else:\n",
    "        mask = df_train[\"Q0\"] == \"YES\"\n",
    "        df_train_ = df_train[mask]\n",
    "        \n",
    "    tweet_train = cv.fit_transform(df_train_['text'])\n",
    "    label_train = df_train_[column]\n",
    "    classifier = RandomForestClassifier(50, random_state=4, verbose=verbose)\n",
    "    classifier.fit(tweet_train, label_train)\n",
    "    \n",
    "    tweet_test = cv.transform(df_test[\"text\"])\n",
    "    return classifier.predict(tweet_test)"
   ]
  },
  {
   "cell_type": "code",
   "execution_count": 29,
   "metadata": {},
   "outputs": [
    {
     "name": "stdout",
     "output_type": "stream",
     "text": [
      "->>Q0\n"
     ]
    },
    {
     "name": "stderr",
     "output_type": "stream",
     "text": [
      "[Parallel(n_jobs=1)]: Done  50 out of  50 | elapsed:    0.3s finished\n",
      "[Parallel(n_jobs=1)]: Done  50 out of  50 | elapsed:   24.2s finished\n"
     ]
    },
    {
     "name": "stdout",
     "output_type": "stream",
     "text": [
      "->>Q1\n"
     ]
    },
    {
     "name": "stderr",
     "output_type": "stream",
     "text": [
      "[Parallel(n_jobs=1)]: Done  50 out of  50 | elapsed:    0.2s finished\n",
      "[Parallel(n_jobs=1)]: Done  50 out of  50 | elapsed:   23.6s finished\n"
     ]
    }
   ],
   "source": [
    "#include columns from original dataset\n",
    "data = {\"text\":clean_test_df[\"text\"],\n",
    "        \"created_at\":pd.to_datetime(clean_test_df[\"created_at\"])\n",
    "       }\n",
    "\n",
    "for column in column_dict.keys():\n",
    "    print(\"->>{}\".format(column))\n",
    "    data[column] = train_and_predict(df_train = clean_train_df, df_test = clean_test_df, column = column)"
   ]
  },
  {
   "cell_type": "code",
   "execution_count": 30,
   "metadata": {},
   "outputs": [
    {
     "data": {
      "text/html": [
       "<div>\n",
       "<style scoped>\n",
       "    .dataframe tbody tr th:only-of-type {\n",
       "        vertical-align: middle;\n",
       "    }\n",
       "\n",
       "    .dataframe tbody tr th {\n",
       "        vertical-align: top;\n",
       "    }\n",
       "\n",
       "    .dataframe thead th {\n",
       "        text-align: right;\n",
       "    }\n",
       "</style>\n",
       "<table border=\"1\" class=\"dataframe\">\n",
       "  <thead>\n",
       "    <tr style=\"text-align: right;\">\n",
       "      <th></th>\n",
       "      <th>Q0</th>\n",
       "      <th>Q1</th>\n",
       "      <th>created_at</th>\n",
       "      <th>text</th>\n",
       "    </tr>\n",
       "    <tr>\n",
       "      <th>id</th>\n",
       "      <th></th>\n",
       "      <th></th>\n",
       "      <th></th>\n",
       "      <th></th>\n",
       "    </tr>\n",
       "  </thead>\n",
       "  <tbody>\n",
       "    <tr>\n",
       "      <th>875063024486293504</th>\n",
       "      <td>NO</td>\n",
       "      <td>NULL</td>\n",
       "      <td>2017-06-14 18:50:57</td>\n",
       "      <td>Spoke to the young leaders of the 18th Annual ...</td>\n",
       "    </tr>\n",
       "    <tr>\n",
       "      <th>875063094220861440</th>\n",
       "      <td>NO</td>\n",
       "      <td>NULL</td>\n",
       "      <td>2017-06-14 18:51:14</td>\n",
       "      <td>RT Chris Singleton of CSU drafted by Chicago C...</td>\n",
       "    </tr>\n",
       "    <tr>\n",
       "      <th>875063277520388096</th>\n",
       "      <td>NO</td>\n",
       "      <td>NULL</td>\n",
       "      <td>2017-06-14 18:51:57</td>\n",
       "      <td>RT CORRUPT SYSTEM PRODUCES SUSTAINS BAD PEOPLE...</td>\n",
       "    </tr>\n",
       "    <tr>\n",
       "      <th>875063305748054016</th>\n",
       "      <td>YES</td>\n",
       "      <td>UNKNOWN</td>\n",
       "      <td>2017-06-14 18:52:04</td>\n",
       "      <td>RT Merkel justifies her migrant policy by sayi...</td>\n",
       "    </tr>\n",
       "    <tr>\n",
       "      <th>875063528335474688</th>\n",
       "      <td>NO</td>\n",
       "      <td>NULL</td>\n",
       "      <td>2017-06-14 18:52:57</td>\n",
       "      <td>RT CORRUPT SYSTEM PRODUCES SUSTAINS BAD PEOPLE...</td>\n",
       "    </tr>\n",
       "  </tbody>\n",
       "</table>\n",
       "</div>"
      ],
      "text/plain": [
       "                     Q0       Q1          created_at  \\\n",
       "id                                                     \n",
       "875063024486293504   NO     NULL 2017-06-14 18:50:57   \n",
       "875063094220861440   NO     NULL 2017-06-14 18:51:14   \n",
       "875063277520388096   NO     NULL 2017-06-14 18:51:57   \n",
       "875063305748054016  YES  UNKNOWN 2017-06-14 18:52:04   \n",
       "875063528335474688   NO     NULL 2017-06-14 18:52:57   \n",
       "\n",
       "                                                                 text  \n",
       "id                                                                     \n",
       "875063024486293504  Spoke to the young leaders of the 18th Annual ...  \n",
       "875063094220861440  RT Chris Singleton of CSU drafted by Chicago C...  \n",
       "875063277520388096  RT CORRUPT SYSTEM PRODUCES SUSTAINS BAD PEOPLE...  \n",
       "875063305748054016  RT Merkel justifies her migrant policy by sayi...  \n",
       "875063528335474688  RT CORRUPT SYSTEM PRODUCES SUSTAINS BAD PEOPLE...  "
      ]
     },
     "execution_count": 30,
     "metadata": {},
     "output_type": "execute_result"
    }
   ],
   "source": [
    "# if tweet is not relevant \n",
    "# -- ignore the Q1 prediction by using \"NULL\" as the value\n",
    "\n",
    "df_predictions = pd.DataFrame(data)\n",
    "#for i, row in df_predictions.iterrows():\n",
    "#    if row[\"Q0\"]==\"NO\" :\n",
    "#        df_predictions.at[i,\"Q1\"] = \"NULL\"\n",
    "\n",
    "#replacing the \"for loop\" with the vectorised \"ufunc\" should yield faster execution\n",
    "not_relevant_indices = df_predictions.query(\"Q0=='NO'\").index\n",
    "df_predictions.loc[not_relevant_indices,\"Q1\"] = 'NULL'\n",
    "df_predictions.head()"
   ]
  },
  {
   "cell_type": "code",
   "execution_count": 31,
   "metadata": {},
   "outputs": [],
   "source": [
    "from IPython.core.display import HTML, display\n",
    "def print_html(input):\n",
    "    return display(HTML(input))"
   ]
  },
  {
   "cell_type": "code",
   "execution_count": 32,
   "metadata": {},
   "outputs": [
    {
     "data": {
      "text/html": [
       "<h2>Value counts in model predictions</h2>"
      ],
      "text/plain": [
       "<IPython.core.display.HTML object>"
      ]
     },
     "metadata": {},
     "output_type": "display_data"
    },
    {
     "data": {
      "text/html": [
       "<h3>Value Counts for column \"Q0\"</h3>"
      ],
      "text/plain": [
       "<IPython.core.display.HTML object>"
      ]
     },
     "metadata": {},
     "output_type": "display_data"
    },
    {
     "data": {
      "text/html": [
       "<div>\n",
       "<style scoped>\n",
       "    .dataframe tbody tr th:only-of-type {\n",
       "        vertical-align: middle;\n",
       "    }\n",
       "\n",
       "    .dataframe tbody tr th {\n",
       "        vertical-align: top;\n",
       "    }\n",
       "\n",
       "    .dataframe thead th {\n",
       "        text-align: right;\n",
       "    }\n",
       "</style>\n",
       "<table border=\"1\" class=\"dataframe\">\n",
       "  <thead>\n",
       "    <tr style=\"text-align: right;\">\n",
       "      <th></th>\n",
       "      <th>Q0</th>\n",
       "    </tr>\n",
       "  </thead>\n",
       "  <tbody>\n",
       "    <tr>\n",
       "      <th>YES</th>\n",
       "      <td>1634248</td>\n",
       "    </tr>\n",
       "    <tr>\n",
       "      <th>NO</th>\n",
       "      <td>387504</td>\n",
       "    </tr>\n",
       "  </tbody>\n",
       "</table>\n",
       "</div>"
      ],
      "text/plain": [
       "          Q0\n",
       "YES  1634248\n",
       "NO    387504"
      ]
     },
     "metadata": {},
     "output_type": "display_data"
    },
    {
     "data": {
      "text/html": [
       "<h3>Value Counts for column \"Q1\"</h3>"
      ],
      "text/plain": [
       "<IPython.core.display.HTML object>"
      ]
     },
     "metadata": {},
     "output_type": "display_data"
    },
    {
     "data": {
      "text/html": [
       "<div>\n",
       "<style scoped>\n",
       "    .dataframe tbody tr th:only-of-type {\n",
       "        vertical-align: middle;\n",
       "    }\n",
       "\n",
       "    .dataframe tbody tr th {\n",
       "        vertical-align: top;\n",
       "    }\n",
       "\n",
       "    .dataframe thead th {\n",
       "        text-align: right;\n",
       "    }\n",
       "</style>\n",
       "<table border=\"1\" class=\"dataframe\">\n",
       "  <thead>\n",
       "    <tr style=\"text-align: right;\">\n",
       "      <th></th>\n",
       "      <th>Q1</th>\n",
       "    </tr>\n",
       "  </thead>\n",
       "  <tbody>\n",
       "    <tr>\n",
       "      <th>UNKNOWN</th>\n",
       "      <td>1630568</td>\n",
       "    </tr>\n",
       "    <tr>\n",
       "      <th>NULL</th>\n",
       "      <td>387504</td>\n",
       "    </tr>\n",
       "    <tr>\n",
       "      <th>POSITIVE</th>\n",
       "      <td>2018</td>\n",
       "    </tr>\n",
       "    <tr>\n",
       "      <th>NEGATIVE</th>\n",
       "      <td>1658</td>\n",
       "    </tr>\n",
       "    <tr>\n",
       "      <th>BOTH/MIXED</th>\n",
       "      <td>4</td>\n",
       "    </tr>\n",
       "  </tbody>\n",
       "</table>\n",
       "</div>"
      ],
      "text/plain": [
       "                 Q1\n",
       "UNKNOWN     1630568\n",
       "NULL         387504\n",
       "POSITIVE       2018\n",
       "NEGATIVE       1658\n",
       "BOTH/MIXED        4"
      ]
     },
     "metadata": {},
     "output_type": "display_data"
    }
   ],
   "source": [
    "print_html(\"<h2>Value counts in model predictions</h2>\")\n",
    "for col in [\"Q0\",\"Q1\"]:\n",
    "    print_html(\"<h3>Value Counts for column \\\"{}\\\"</h3>\".format(col))\n",
    "    display(df_predictions[col].value_counts().to_frame())\n",
    "# observations\n",
    "# there is an overwhelming majority of relevant tweets - more than 85%\n",
    "# note that NULL values in Q1 only happen if  Q0 is NO -- hence their counts match\n",
    "#\n",
    "# looking at the values of Q1 \n",
    "# -- we observe that the annotation data is largely biased towards unknown\n",
    "# thus we would do well to drop \"Speaker's Mood\" from our analysis"
   ]
  },
  {
   "cell_type": "markdown",
   "metadata": {},
   "source": [
    "__Write the predicted dataset to csv file for further use__"
   ]
  },
  {
   "cell_type": "code",
   "execution_count": 33,
   "metadata": {
    "collapsed": true
   },
   "outputs": [],
   "source": [
    "import csv \n",
    "df_predictions.to_csv(os.path.join(rootdir,\n",
    "                                   \"data\",\n",
    "                                   \"interim\",\n",
    "                                   \"predictions.csv\"),\n",
    "                      index=False,\n",
    "                      quoting=csv.QUOTE_ALL,\n",
    "                      quotechar='\"',\n",
    "                     )"
   ]
  }
 ],
 "metadata": {
  "kernelspec": {
   "display_name": "Python 3",
   "language": "python",
   "name": "python3"
  },
  "language_info": {
   "codemirror_mode": {
    "name": "ipython",
    "version": 3
   },
   "file_extension": ".py",
   "mimetype": "text/x-python",
   "name": "python",
   "nbconvert_exporter": "python",
   "pygments_lexer": "ipython3",
   "version": "3.6.3"
  }
 },
 "nbformat": 4,
 "nbformat_minor": 2
}
